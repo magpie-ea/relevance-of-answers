{
 "cells": [
  {
   "cell_type": "code",
   "execution_count": 2,
   "metadata": {},
   "source": [
    "import pandas as pd\n",
    "import numpy as np\n",
    "import os\n",
    "from pathlib import Path\n",
    "import json\n"
   ],
   "outputs": []
  },
  {
   "cell_type": "code",
   "execution_count": 3,
   "metadata": {},
   "source": [
    "current_dir = os.path.abspath('.')\n",
    "relevance_dir = Path(current_dir).resolve().parent\n",
    "\n",
    "processed_data_path = relevance_dir / 'qualitative-analysis' / 'data' / 'processed_data_with_stimuli.csv'\n",
    "output_md = relevance_dir / 'qualitative-analysis' / 'extreme_examples.md'\n",
    "\n",
    "d = pd.read_csv(processed_data_path)"
   ],
   "outputs": []
  },
  {
   "cell_type": "code",
   "execution_count": 4,
   "metadata": {},
   "source": [
    "d[['GroupID', '2ord_bch_rank_mean', 'rel_rank_mean', '2ord_bch_rank_diff_mean']]"
   ],
   "outputs": []
  },
  {
   "cell_type": "code",
   "execution_count": 5,
   "metadata": {},
   "source": [
    "examples = {\n",
    "    # use head and tail to get top 10 and bottom 10\n",
    "    \n",
    "    col: {\n",
    "        'top10': pd.Series(d.sort_values(f'{col}_rank_diff').tail(10)['RowID']).tolist(),\n",
    "        'bot10': pd.Series(d.sort_values(f'{col}_rank_diff').head(10)['RowID']).tolist(),\n",
    "    } for col in ['bfu', 'klu', 'ech']\n",
    "}\n",
    "examples"
   ],
   "outputs": []
  },
  {
   "cell_type": "code",
   "execution_count": 6,
   "metadata": {},
   "source": [
    "def get_stimulus(row_id):\n",
    "    obj = d[d['RowID'] ==row_id]['stimulus']\n",
    "    return obj.values[0]"
   ],
   "outputs": []
  },
  {
   "cell_type": "code",
   "execution_count": 7,
   "metadata": {},
   "source": [
    "get_stimulus('12high_certaintynegativenegative5837')"
   ],
   "outputs": []
  },
  {
   "cell_type": "code",
   "execution_count": 8,
   "metadata": {},
   "source": [
    "output = ''\n",
    "example_text = {}\n",
    "# collect stim text from top 10 and bottom 10 for each measure\n",
    "for measure in examples.keys():\n",
    "    example_text['top10'] = ['## ' + str(i) + '\\n\\n' + get_stimulus(row_id)\n",
    "                             for i, row_id in enumerate(examples[measure]['top10'])]\n",
    "    example_text['bot10'] = ['## ' + str(i) + '\\n\\n' + get_stimulus(row_id)\n",
    "                             for i, row_id in enumerate(examples[measure]['bot10'])]\n",
    "    output += f'\\n\\n# Rank diff: {measure} - relevance: Bottom 10 \\n\\n' + '\\n\\n'.join(example_text['bot10'])\n",
    "    output += f'\\n\\n# Rank diff: {measure} - relevance: Top 10 \\n\\n' + '\\n\\n'.join(example_text['top10'])\n",
    "\n",
    "with open(output_md, 'w') as f:\n",
    "    f.write(output)"
   ],
   "outputs": []
  },
  {
   "cell_type": "code",
   "execution_count": null,
   "metadata": {},
   "source": [],
   "outputs": []
  }
 ],
 "metadata": {
  "kernelspec": {
   "display_name": "Python 3",
   "language": "python",
   "name": "python3"
  },
  "language_info": {
   "codemirror_mode": {
    "name": "ipython",
    "version": 3
   },
   "file_extension": ".py",
   "mimetype": "text/x-python",
   "name": "python",
   "nbconvert_exporter": "python",
   "pygments_lexer": "ipython3",
   "version": "3.8.10"
  }
 },
 "nbformat": 4,
 "nbformat_minor": 2
}
