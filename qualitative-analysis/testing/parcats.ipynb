{
 "cells": [
  {
   "cell_type": "code",
   "execution_count": 1,
   "metadata": {},
   "outputs": [
    {
     "data": {
      "application/vnd.jupyter.widget-view+json": {
       "model_id": "44ec1afe89214041b616b4169972cbc3",
       "version_major": 2,
       "version_minor": 0
      },
      "text/plain": [
       "FigureWidget({\n",
       "    'data': [{'marker': {'color': 'gray'},\n",
       "              'mode': 'markers',\n",
       "              'selected': {'marker': {'color': 'firebrick'}},\n",
       "              'type': 'scatter',\n",
       "              'uid': '13184293-ecb3-4b8f-94e9-b4e6bf7b3ad9',\n",
       "              'unselected': {'marker': {'opacity': 0.3}},\n",
       "              'x': array([111., 111., 154., ..., 134., 106., 114.]),\n",
       "              'y': array([27, 27, 26, ..., 23, 27, 25])},\n",
       "             {'dimensions': [{'label': 'body-style',\n",
       "                              'values': array(['convertible', 'convertible', 'hatchback', ..., 'sedan', 'sedan',\n",
       "                                               'sedan'], dtype=object)},\n",
       "                             {'label': 'drive-wheels',\n",
       "                              'values': array(['rwd', 'rwd', 'rwd', ..., 'rwd', 'rwd', 'rwd'], dtype=object)},\n",
       "                             {'label': 'fuel-type',\n",
       "                              'values': array(['gas', 'gas', 'gas', ..., 'gas', 'diesel', 'gas'], dtype=object)}],\n",
       "              'domain': {'y': [0, 0.4]},\n",
       "              'line': {'cmax': 1,\n",
       "                       'cmin': 0,\n",
       "                       'color': array([0, 0, 0, ..., 0, 0, 0], dtype=uint8),\n",
       "                       'colorscale': [[0, 'gray'], [1, 'firebrick']],\n",
       "                       'shape': 'hspline'},\n",
       "              'type': 'parcats',\n",
       "              'uid': 'd9e96673-22af-4a96-b9ee-b3416a6d04cd'}],\n",
       "    'layout': {'dragmode': 'lasso',\n",
       "               'height': 800,\n",
       "               'hovermode': 'closest',\n",
       "               'template': '...',\n",
       "               'xaxis': {'title': {'text': 'Horsepower'}},\n",
       "               'yaxis': {'domain': [0.6, 1], 'title': {'text': 'MPG'}}}\n",
       "})"
      ]
     },
     "execution_count": 1,
     "metadata": {},
     "output_type": "execute_result"
    }
   ],
   "source": [
    "import plotly.graph_objects as go\n",
    "from ipywidgets import widgets\n",
    "import pandas as pd\n",
    "import numpy as np\n",
    "\n",
    "cars_df = pd.read_csv('https://raw.githubusercontent.com/plotly/datasets/master/imports-85.csv')\n",
    "\n",
    "# Build parcats dimensions\n",
    "categorical_dimensions = ['body-style', 'drive-wheels', 'fuel-type'];\n",
    "\n",
    "dimensions = [dict(values=cars_df[label], label=label) for label in categorical_dimensions]\n",
    "\n",
    "# Build colorscale\n",
    "color = np.zeros(len(cars_df), dtype='uint8')\n",
    "colorscale = [[0, 'gray'], [1, 'firebrick']]\n",
    "\n",
    "# Build figure as FigureWidget\n",
    "fig = go.FigureWidget(\n",
    "    data=[\n",
    "        go.Scatter(x=cars_df.horsepower, y=cars_df['highway-mpg'],\n",
    "            marker={'color': 'gray'}, mode='markers', \n",
    "            selected={'marker': {'color': 'firebrick'}},\n",
    "            unselected={'marker': {'opacity': 0.3}}), \n",
    "        go.Parcats(\n",
    "            domain={'y': [0, 0.4]}, dimensions=dimensions,\n",
    "            line={'colorscale': colorscale, 'cmin': 0,\n",
    "                'cmax': 1, 'color': color, 'shape': 'hspline'})\n",
    "    ])\n",
    "\n",
    "fig.update_layout(\n",
    "        height=800, xaxis={'title': 'Horsepower'},\n",
    "        yaxis={'title': 'MPG', 'domain': [0.6, 1]},\n",
    "        dragmode='lasso', hovermode='closest')\n",
    "\n",
    "# Update color callback\n",
    "def update_color(trace, points, state):\n",
    "    # Update scatter selection\n",
    "    fig.data[0].selectedpoints = points.point_inds\n",
    "\n",
    "    # Update parcats colors\n",
    "    new_color = np.zeros(len(cars_df), dtype='uint8')\n",
    "    new_color[points.point_inds] = 1\n",
    "    fig.data[1].line.color = new_color\n",
    "\n",
    "# Register callback on scatter selection...\n",
    "fig.data[0].on_selection(update_color)\n",
    "# and parcats click\n",
    "fig.data[1].on_click(update_color)\n",
    "\n",
    "fig"
   ]
  },
  {
   "cell_type": "code",
   "execution_count": null,
   "metadata": {},
   "outputs": [],
   "source": []
  }
 ],
 "metadata": {
  "kernelspec": {
   "display_name": "Python 3",
   "language": "python",
   "name": "python3"
  },
  "language_info": {
   "codemirror_mode": {
    "name": "ipython",
    "version": 3
   },
   "file_extension": ".py",
   "mimetype": "text/x-python",
   "name": "python",
   "nbconvert_exporter": "python",
   "pygments_lexer": "ipython3",
   "version": "3.8.10"
  }
 },
 "nbformat": 4,
 "nbformat_minor": 2
}
