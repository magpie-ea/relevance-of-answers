{
 "cells": [
  {
   "cell_type": "markdown",
   "metadata": {
    "id": "o5DCdR2BlzMT"
   },
   "source": [
    "# Initial stuff"
   ]
  },
  {
   "cell_type": "code",
   "execution_count": 1,
   "metadata": {
    "executionInfo": {
     "elapsed": 2169,
     "status": "ok",
     "timestamp": 1713953203138,
     "user": {
      "displayName": "Alex Warstadt",
      "userId": "10715284802802833043"
     },
     "user_tz": -120
    },
    "id": "VAMj8av4kksN"
   },
   "source": [
    "import matplotlib.pyplot as plt\n",
    "import matplotlib.gridspec as gridspec\n",
    "import seaborn as sns\n",
    "import pandas as pd\n",
    "import numpy as np\n",
    "import math\n",
    "from itertools import product\n",
    "from scipy.stats import entropy, beta\n",
    "from scipy.special import loggamma, digamma, gamma"
   ],
   "outputs": []
  },
  {
   "cell_type": "code",
   "source": [
    "from google.colab import drive\n",
    "drive.mount('/content/drive', force_remount=True)"
   ],
   "metadata": {
    "colab": {
     "base_uri": "https://localhost:8080/"
    },
    "id": "UcDwJAuD2H9i",
    "executionInfo": {
     "status": "ok",
     "timestamp": 1713953229164,
     "user_tz": -120,
     "elapsed": 26030,
     "user": {
      "displayName": "Alex Warstadt",
      "userId": "10715284802802833043"
     }
    },
    "outputId": "f29c61f8-8d50-49a2-fd11-798226e236b7"
   },
   "execution_count": 2,
   "outputs": []
  },
  {
   "cell_type": "markdown",
   "metadata": {
    "id": "QujZJTHJlZPZ"
   },
   "source": [
    "Now we need to define a bunch of metrics. These are copied-and-pasted from the repo."
   ]
  },
  {
   "cell_type": "code",
   "execution_count": 3,
   "metadata": {
    "executionInfo": {
     "elapsed": 9,
     "status": "ok",
     "timestamp": 1713953229165,
     "user": {
      "displayName": "Alex Warstadt",
      "userId": "10715284802802833043"
     },
     "user_tz": -120
    },
    "id": "S6ekrFoJldQS"
   },
   "source": [
    "def kl(p, q):\n",
    "    \"\"\"\n",
    "    :param p: posterior\n",
    "    :param q: prior\n",
    "    :return:\n",
    "    \"\"\"\n",
    "    return entropy([p, 1-p], [q, 1-q], base=2)\n",
    "\n",
    "def exp10(x):\n",
    "    return 1 - (10 ** (-1 * x))\n",
    "\n",
    "def exp(b, x):\n",
    "    return 1 - (b ** (-1 * x))\n",
    "\n",
    "def kl_util(p, q):\n",
    "    \"\"\"\n",
    "    :param p: posterior\n",
    "    :param q: prior\n",
    "    :return:\n",
    "    \"\"\"\n",
    "    return exp10(entropy([p, 1-p], [q, 1-q], base=2))\n",
    "\n",
    "def entropy_reduction(p, q):\n",
    "    \"\"\"\n",
    "    :param p: posterior\n",
    "    :param q: prior\n",
    "    :return: Absolute value of entropy reduction\n",
    "    \"\"\"\n",
    "    return abs(entropy([q, 1-q], base=2) - entropy([p, 1-p], base=2))\n",
    "\n",
    "def bayes_factor(p, q):\n",
    "    \"\"\"\n",
    "    :param p: posterior\n",
    "    :param q: prior\n",
    "    :return: absolute value of log of bayes factor\n",
    "    \"\"\"\n",
    "    if p == 1 and q == 1 or p == 0 and q == 0:\n",
    "        return 1\n",
    "    else:\n",
    "        return (np.float64(p) / (1-p)) * (np.float64(1-q) / q)\n",
    "\n",
    "def log_bayes_factor(p, q):\n",
    "    \"\"\"\n",
    "    :param p: posterior\n",
    "    :param q: prior\n",
    "    :return: absolute value of log of bayes factor\n",
    "    \"\"\"\n",
    "    if p == 1 and q == 1 or p == 0 and q == 0:\n",
    "        return 0\n",
    "    else:\n",
    "        return abs(np.log10(bayes_factor(p, q)))\n",
    "\n",
    "def bf_utility_polar(p, q):\n",
    "    \"\"\"\n",
    "    :param p: posterior\n",
    "    :param q: prior\n",
    "    \"\"\"\n",
    "    if p > q:\n",
    "        p = 1 - p\n",
    "        q = 1 - q\n",
    "    return 1 - bayes_factor(p, q)\n",
    "\n",
    "def bf_utility_multi_avg(p_list, q_list):\n",
    "    \"\"\"\n",
    "    Note: This equals bf_utility_polar for 2-alt questions, but doesn't work when there are >2 alts.\n",
    "    For example, if the i^{th} alternative is always 0, that still brings down the average.\n",
    "    :param p_list:\n",
    "    :param q_list:\n",
    "    :return:\n",
    "    \"\"\"\n",
    "    utils = []\n",
    "    for p, q in zip(p_list, q_list):\n",
    "        utils.append(bf_utility_polar(p, q))\n",
    "    return np.mean(utils)\n",
    "\n",
    "def bf_utility_multi_weighted_avg(p_list, q_list):\n",
    "    \"\"\"\n",
    "    Note:\n",
    "    :param p_list:\n",
    "    :param q_list:\n",
    "    :return:\n",
    "    \"\"\"\n",
    "    utils = []\n",
    "    for p, q in zip(p_list, q_list):\n",
    "        utils.append(p * bf_utility_polar(p, q))\n",
    "    return sum(utils)\n",
    "\n",
    "\n",
    "def posterior_distance(p):\n",
    "    \"\"\"\n",
    "    :param p: posterior\n",
    "    :return: How far on a scale of 0 to 1 is p from 0.5\n",
    "    \"\"\"\n",
    "    return 2 * abs(0.5 - p)\n",
    "\n",
    "def prior_posterior_distance(p, q):\n",
    "    \"\"\"\n",
    "    :param p: posterior\n",
    "    :param q: prior\n",
    "    :return: Distance between p and q\n",
    "    \"\"\"\n",
    "    return abs(p - q)\n",
    "\n",
    "def kl_dirichlet(Q, P):\n",
    "    \"\"\"\n",
    "    :param Q: posterior params for dirichlet dist.\n",
    "    :param P: prior params for dirichlet dist.\n",
    "    Compute KL(Q; P) divergence of 2 dirichlet distributions with parameters Q and P.\n",
    "    As usual, with KL(Q; P) Q represents the posterior, and P the prior.\n",
    "    When these are beta distributions, Q[0] = \\alpha, Q[1] = \\beta.\n",
    "    \"\"\"\n",
    "    return loggamma(sum(Q)) - loggamma(sum(P)) + \\\n",
    "        sum([loggamma(p) - loggamma(q) for p, q in zip(P, Q)]) + \\\n",
    "        sum([(q - p) * (digamma(q) - digamma(sum(Q))) for p, q in zip(P, Q)])\n",
    "\n",
    "\n",
    "def kl_util_dirichlet(Q, P):\n",
    "    \"\"\"\n",
    "    :param Q: posterior params for dirichlet dist.\n",
    "    :param P: prior params for dirichlet dist.\n",
    "    Compute KL(Q; P) divergence of 2 dirichlet distributions with parameters Q and P.\n",
    "    As usual, with KL(Q; P) Q represents the posterior, and P the prior.\n",
    "    When these are beta distributions, Q[0] = \\alpha, Q[1] = \\beta.\n",
    "    \"\"\"\n",
    "    return exp(2, kl_dirichlet(Q, P))\n",
    "\n",
    "def entropy_dirichlet(P):\n",
    "    \"\"\"\n",
    "    Compute Entropy H(P) of a dirichlet distribution with parameters P.\n",
    "    When P is a beta distributions, P[0] = \\alpha, P[1] = \\beta.\n",
    "    Note: Differential entropy (i.e. continuous generalization of entropy) can be negative:\n",
    "    Read more: https://en.wikipedia.org/wiki/Differential_entropy\n",
    "    https://en.wikipedia.org/wiki/Beta_distribution#Quantities_of_information_(entropy)\n",
    "    \"\"\"\n",
    "    a0 = sum(P)\n",
    "    return math.log(math.prod([gamma(a) for a in P]) / gamma(a0)) \\\n",
    "           + (a0 - len(P)) * digamma(a0) \\\n",
    "           - sum([(p - 1) * digamma(p) for p in P])\n",
    "\n",
    "\n",
    "def entropy_change_dirichlet(P, Q):\n",
    "    \"\"\"\n",
    "    :param P: prior params for dirichlet dist.\n",
    "    :param Q: posterior params for dirichlet dist.\n",
    "    :return: Entropy change\n",
    "    \"\"\"\n",
    "    return abs(entropy_dirichlet(P) - entropy_dirichlet(Q))\n",
    "\n",
    "def beta_bayes_factor(P, Q):\n",
    "    return math.log(\n",
    "        abs(P[0] - Q[0])\n",
    "        + abs(P[1] - Q[1])\n",
    "        + 2\n",
    "        )\n",
    "\n",
    "def beta_bayes_factor_util(P, Q):\n",
    "    return exp(2, beta_bayes_factor(P, Q))\n",
    "\n",
    "def beta_belief_change(P, Q):\n",
    "    return abs(\n",
    "        sum(P) - sum(Q)\n",
    "    )\n"
   ],
   "outputs": []
  },
  {
   "cell_type": "code",
   "source": [
    "kl_util(0.1, 0)"
   ],
   "metadata": {
    "colab": {
     "base_uri": "https://localhost:8080/"
    },
    "id": "JqD_9VmNQIhh",
    "executionInfo": {
     "status": "ok",
     "timestamp": 1713953229165,
     "user_tz": -120,
     "elapsed": 7,
     "user": {
      "displayName": "Alex Warstadt",
      "userId": "10715284802802833043"
     }
    },
    "outputId": "72b9642b-54dd-44c3-d634-02c8bd1c304a"
   },
   "execution_count": 4,
   "outputs": []
  },
  {
   "cell_type": "markdown",
   "metadata": {
    "id": "frQ_AID7ttSN"
   },
   "source": [
    "# Plotting first-order beliefs"
   ]
  },
  {
   "cell_type": "code",
   "execution_count": null,
   "metadata": {
    "colab": {
     "base_uri": "https://localhost:8080/",
     "height": 226
    },
    "executionInfo": {
     "elapsed": 10200,
     "status": "ok",
     "timestamp": 1712350842562,
     "user": {
      "displayName": "Alex Warstadt",
      "userId": "10715284802802833043"
     },
     "user_tz": -120
    },
    "id": "ctf7sDNBl70z",
    "outputId": "930b94ad-a7fd-49bb-b8cf-2ed2c6fb4ad4"
   },
   "source": [
    "def make_df_for_heatmap(f):\n",
    "    n = 100\n",
    "    priors = np.arange(0, 1+1/n, 1/n)\n",
    "    posteriors = np.arange(0, 1+1/n, 1/n)\n",
    "    array = np.zeros((n+1, n+1))\n",
    "    for i, q in enumerate(priors):\n",
    "        for j, p in enumerate(posteriors):\n",
    "            array[j][i] = f(p, q)\n",
    "\n",
    "    df = pd.DataFrame(array, index=priors, columns=posteriors)\n",
    "    return df\n",
    "\n",
    "def make_heatmap(df, ax, metric, min, max, cmap=\"viridis\"):\n",
    "    g = sns.heatmap(\n",
    "        df,\n",
    "        ax=ax,\n",
    "        vmin=min,\n",
    "        vmax=max,\n",
    "        xticklabels=50,\n",
    "        yticklabels=50,\n",
    "        cmap=cmap,\n",
    "        square=True,\n",
    "\n",
    "        cbar_kws={'shrink': 0.5}\n",
    "        )\n",
    "    g.invert_yaxis()\n",
    "    g.set_xlabel(\"Prior: P(yes|C)\")\n",
    "    g.set_ylabel(\"Posterior: P(yes|ans, C)\")\n",
    "    g.set_title(metric)\n",
    "\n",
    "fig, axs = plt.subplots(1, 4, figsize=(9, 3))\n",
    "for metric, ax in zip([\"Belief Change\", \"Entropy Change\", \"KL Utility\", \"Bayes Factor Utility\"], axs.flatten()):\n",
    "    f = {\n",
    "        \"Belief Change\": prior_posterior_distance,\n",
    "        \"KL Utility\": kl_util,\n",
    "         \"Entropy Change\": entropy_reduction,\n",
    "         \"Bayes Factor Utility\": bf_utility_polar\n",
    "    }[metric]\n",
    "    df = make_df_for_heatmap(f)\n",
    "    min = 0\n",
    "    max = {\n",
    "        \"Entropy Change\": 1,\n",
    "        \"Belief Change\": 1,\n",
    "        \"KL Utility\": 1,\n",
    "        \"KL\": 1.2,\n",
    "        \"Cross Entropy\": 2,\n",
    "        \"Bayes Factor Utility\": 1\n",
    "    }[metric]\n",
    "    make_heatmap(df, ax, metric, min, max)\n",
    "\n",
    "for ax in axs.flatten()[1:]:\n",
    "    ax.set_ylabel(\"\")\n",
    "\n",
    "# for ax in [axs.flatten()[3]]:\n",
    "#     ax.figure.delaxes(ax.figure.axes[4])\n",
    "\n",
    "plt.tight_layout()\n",
    "\n",
    "plt.savefig(\"/content/drive/MyDrive/relevance/figures/first_order.pdf\")"
   ],
   "outputs": []
  },
  {
   "cell_type": "code",
   "source": [
    "def make_df_for_heatmap(f):\n",
    "    n = 100\n",
    "    priors = np.arange(0, 1+1/n, 1/n)\n",
    "    posteriors = np.arange(0, 1+1/n, 1/n)\n",
    "    array = np.zeros((n+1, n+1))\n",
    "    for i, q in enumerate(priors):\n",
    "        for j, p in enumerate(posteriors):\n",
    "            array[j][i] = f(p, q)\n",
    "\n",
    "    df = pd.DataFrame(array, index=priors, columns=posteriors)\n",
    "    return df\n",
    "\n",
    "def make_heatmap(df, ax, metric, min, max, cmap=\"viridis\"):\n",
    "    g = sns.heatmap(\n",
    "        df,\n",
    "        ax=ax,\n",
    "        vmin=min,\n",
    "        vmax=max,\n",
    "        xticklabels=25,\n",
    "        yticklabels=25,\n",
    "        cmap=cmap,\n",
    "        square=True,\n",
    "        cbar=False,\n",
    "        cbar_kws={'shrink': 0.5}\n",
    "        )\n",
    "    g.invert_yaxis()\n",
    "    g.set_xlabel(\"Prior: P(yes|C)\")\n",
    "    g.set_ylabel(\"Posterior: P(yes|ans, C)\")\n",
    "    g.set_title(metric)\n",
    "    return g\n",
    "\n",
    "# fig, axs = plt.subplots(1, 4, figsize=(9, 3))\n",
    "gs = gridspec.GridSpec(1, 5, width_ratios=[5,5,5,5,0.2], height_ratios=[5])\n",
    "# cbar_ax = fig.add_subplot(gs[:, -1])\n",
    "# cbar = fig.colorbar(g.collections[0], cax=cbar_ax)\n",
    "\n",
    "axs = [plt.subplot(gs[0, i]) for i in range(5)]\n",
    "for ax, metric in zip(axs, [\"Belief Change\", \"Entropy Change\", \"KL Utility\", \"Bayes Factor Utility\"]):\n",
    "    f = {\n",
    "        \"Belief Change\": prior_posterior_distance,\n",
    "        \"KL Utility\": kl_util,\n",
    "         \"Entropy Change\": entropy_reduction,\n",
    "         \"Bayes Factor Utility\": bf_utility_polar\n",
    "    }[metric]\n",
    "    df = make_df_for_heatmap(f)\n",
    "    min = 0\n",
    "    max = {\n",
    "        \"Entropy Change\": 1,\n",
    "        \"Belief Change\": 1,\n",
    "        \"KL Utility\": 1,\n",
    "        \"KL\": 1.2,\n",
    "        \"Cross Entropy\": 2,\n",
    "        \"Bayes Factor Utility\": 1\n",
    "    }[metric]\n",
    "    g = make_heatmap(df, ax, metric, min, max)\n",
    "\n",
    "for ax in axs[1:]:\n",
    "    ax.set_ylabel(\"\")\n",
    "\n",
    "# for ax in [axs.flatten()[3]]:\n",
    "#     ax.figure.delaxes(ax.figure.axes[4])\n",
    "cbar_ax = fig.add_subplot(gs[:, -1])\n",
    "cbar = fig.colorbar(g.collections[0], cax=cbar_ax)\n",
    "\n",
    "plt.tight_layout()\n",
    "\n",
    "plt.savefig(\"/content/drive/MyDrive/relevance/figures/first_order.pdf\")"
   ],
   "metadata": {
    "colab": {
     "base_uri": "https://localhost:8080/",
     "height": 486
    },
    "id": "XffgDUZkTT-6",
    "executionInfo": {
     "status": "ok",
     "timestamp": 1712350849940,
     "user_tz": -120,
     "elapsed": 7382,
     "user": {
      "displayName": "Alex Warstadt",
      "userId": "10715284802802833043"
     }
    },
    "outputId": "d56030f3-347a-48de-8b56-066c2e4f2d8e"
   },
   "execution_count": null,
   "outputs": []
  },
  {
   "cell_type": "markdown",
   "metadata": {
    "id": "dl_Ic1_goI-a"
   },
   "source": [
    "# Plotting higher order beliefs"
   ]
  },
  {
   "cell_type": "markdown",
   "metadata": {
    "id": "WQbIKWbQtw4K"
   },
   "source": [
    "## Useful functions\n"
   ]
  },
  {
   "cell_type": "code",
   "execution_count": 29,
   "metadata": {
    "id": "4iWTNFRStMz1",
    "executionInfo": {
     "status": "ok",
     "timestamp": 1713954251507,
     "user_tz": -120,
     "elapsed": 5,
     "user": {
      "displayName": "Alex Warstadt",
      "userId": "10715284802802833043"
     }
    }
   },
   "source": [
    "def fit_beta_mode_concentration(mode, concentration):\n",
    "    \"\"\"\n",
    "    Compute parameters from the mode and concentration following this parameterization:\n",
    "    https://en.wikipedia.org/wiki/Beta_distribution#Mode_and_concentration\n",
    "    \"\"\"\n",
    "    alpha = mode * (concentration-2) + 1\n",
    "    beta = (1-mode) * (concentration-2) + 1\n",
    "    return alpha, beta\n",
    "\n",
    "def return_beta(a, b, mode_concentration=False):\n",
    "    if mode_concentration:\n",
    "        m, k = a, b\n",
    "        a, b = fit_beta_mode_concentration(a, b)\n",
    "    else:\n",
    "        m = (a - 1) / (a + b - 2)\n",
    "        k = a + b\n",
    "    x = np.linspace(beta.ppf(0.01, a, b),\n",
    "                    beta.ppf(0.99, a, b), 100)\n",
    "    y = beta.pdf(x, a, b)\n",
    "    to_return = pd.DataFrame(zip(x,y), columns=[\"p(yes)\", \"density\"])\n",
    "    to_return[[\"α\", \"β\", \"ω\", \"κ\"]] = (a, b, m, k)\n",
    "    return to_return\n",
    "\n",
    "def plot_beta(a, b, ax, mode_concentration=False):\n",
    "    if mode_concentration:\n",
    "        a, b = fit_beta_mode_concentration(a, b)\n",
    "    x = np.linspace(beta.ppf(0.01, a, b),\n",
    "                    beta.ppf(0.99, a, b), 100)\n",
    "    ax.plot(x, beta.pdf(x, a, b), label=f'α=2, β={b}')\n",
    "    ax.set_ylim(0, 5)\n",
    "    return ax"
   ],
   "outputs": []
  },
  {
   "cell_type": "markdown",
   "source": [
    "## Visualizing beta distributions by parameter"
   ],
   "metadata": {
    "id": "y3TXFqp-qgDr"
   }
  },
  {
   "cell_type": "markdown",
   "metadata": {
    "id": "ydWvoq_YHdxo"
   },
   "source": [
    "### Changing concentration for a fixed mode"
   ]
  },
  {
   "cell_type": "code",
   "execution_count": 34,
   "metadata": {
    "colab": {
     "base_uri": "https://localhost:8080/",
     "height": 206
    },
    "executionInfo": {
     "elapsed": 9914,
     "status": "ok",
     "timestamp": 1713954731480,
     "user": {
      "displayName": "Alex Warstadt",
      "userId": "10715284802802833043"
     },
     "user_tz": -120
    },
    "id": "orsCiZd7FkJR",
    "outputId": "78adcb4e-cc2f-42e5-cbc2-9e5bcce58f12"
   },
   "source": [
    "# fig = plt.figure(figsize=(6, 6))\n",
    "modes = np.linspace(0, 1, 4)\n",
    "concentrations = np.linspace(3, 20, 20)\n",
    "dfs = []\n",
    "for m, k in product(modes, concentrations):\n",
    "    dfs.append(return_beta(m, k, mode_concentration=True))\n",
    "df = pd.concat(dfs)\n",
    "g = sns.relplot(kind=\"line\", data=df, x=\"p(yes)\", y=\"density\", col=\"ω\", hue=\"κ\", height=2, aspect=1.3, linewidth=0.5, palette=\"viridis\")\n",
    "for ax in g.axes.flat:\n",
    "    ax.set_ylim(0, 5)\n",
    "    ax.set_title(ax.get_title()[:8], fontsize=10)\n",
    "plt.savefig(\"/content/drive/MyDrive/relevance/figures/fixed_mode.pdf\", bbox_inches=\"tight\")"
   ],
   "outputs": []
  },
  {
   "cell_type": "markdown",
   "metadata": {
    "id": "1AopPvXFHrc5"
   },
   "source": [
    "### Changing mode for a fixed concentration"
   ]
  },
  {
   "cell_type": "code",
   "source": [
    "modes = np.linspace(0, 1, 20)\n",
    "concentrations = np.geomspace(2.1, 16, 4)\n",
    "dfs = []\n",
    "for m, k in product(modes, concentrations):\n",
    "    dfs.append(return_beta(m, k, mode_concentration=True))\n",
    "df = pd.concat(dfs)\n",
    "g = sns.relplot(kind=\"line\", data=df, x=\"p(yes)\", y=\"density\", col=\"κ\", hue=\"ω\", height=2, aspect=1.3, linewidth=0.5, palette=\"viridis\")\n",
    "for ax in g.axes.flat:\n",
    "    ax.set_ylim(0, 5)\n",
    "    ax.set_title(ax.get_title()[:8], fontsize=10)\n",
    "\n",
    "plt.savefig(\"/content/drive/MyDrive/relevance/figures/fixed_concentration.pdf\", bbox_inches=\"tight\")"
   ],
   "metadata": {
    "colab": {
     "base_uri": "https://localhost:8080/",
     "height": 206
    },
    "id": "iJehopg5pFW7",
    "executionInfo": {
     "status": "ok",
     "timestamp": 1713954735838,
     "user_tz": -120,
     "elapsed": 3503,
     "user": {
      "displayName": "Alex Warstadt",
      "userId": "10715284802802833043"
     }
    },
    "outputId": "6730abb8-dc44-49f8-9ab5-7717ac333a46"
   },
   "execution_count": 35,
   "outputs": []
  },
  {
   "cell_type": "markdown",
   "source": [
    "### Changing `b` for fixed `a`"
   ],
   "metadata": {
    "id": "34DB-Q3Optj6"
   }
  },
  {
   "cell_type": "code",
   "source": [
    "aa = np.linspace(1, 10, 4)\n",
    "bb = np.linspace(1, 10, 30)\n",
    "dfs = []\n",
    "for a, b in product(aa, bb):\n",
    "    dfs.append(return_beta(a, b, mode_concentration=False))\n",
    "df = pd.concat(dfs)\n",
    "g = sns.relplot(kind=\"line\", data=df, x=\"p(yes)\", y=\"density\", col=\"α\", hue=\"β\", height=2, aspect=1.3, linewidth=0.5, palette=\"viridis\")\n",
    "for ax in g.axes.flat:\n",
    "    ax.set_ylim(0, 5)\n",
    "    ax.set_title(ax.get_title()[:8], fontsize=10)\n",
    "\n",
    "plt.savefig(\"/content/drive/MyDrive/relevance/figures/fixed_a.pdf\", bbox_inches=\"tight\")"
   ],
   "metadata": {
    "colab": {
     "base_uri": "https://localhost:8080/",
     "height": 242
    },
    "id": "u4au4bglpxHh",
    "executionInfo": {
     "status": "ok",
     "timestamp": 1713954740131,
     "user_tz": -120,
     "elapsed": 4300,
     "user": {
      "displayName": "Alex Warstadt",
      "userId": "10715284802802833043"
     }
    },
    "outputId": "f337fc19-4897-4512-d8a6-f8f7bb5746f3"
   },
   "execution_count": 36,
   "outputs": []
  },
  {
   "cell_type": "markdown",
   "source": [
    "## Heatmaps"
   ],
   "metadata": {
    "id": "5_Khf-4kowsK"
   }
  },
  {
   "cell_type": "markdown",
   "source": [
    "### Example: heatmap with the axes labeled with beta distributions"
   ],
   "metadata": {
    "id": "Baugc28pq6WR"
   }
  },
  {
   "cell_type": "code",
   "source": [
    "import matplotlib.pyplot as plt\n",
    "import matplotlib.gridspec as gridspec\n",
    "import seaborn as sns\n",
    "\n",
    "# Set up the gridspec\n",
    "fig = plt.figure(figsize=(7, 6))\n",
    "gs = gridspec.GridSpec(7, 8, width_ratios=[0.2, 0.05, 0.2, 0.2, 0.2, 0.2, 0.2, 0.3], height_ratios=[0.2, 0.2, 0.2, 0.2, 0.2, 0.1, 0.2])\n",
    "\n",
    "# Create the dataframe for the heatmap\n",
    "mode = 0.5\n",
    "concentrations = np.linspace(2, 100, 99)\n",
    "betas = []\n",
    "for k in concentrations:\n",
    "    a, b = fit_beta_mode_concentration(mode, k)\n",
    "    betas.append((k, a, b))\n",
    "\n",
    "df_met = pd.DataFrame(\n",
    "    [(a, b, c, d, e, f) for (a, b, c), (d, e, f) in product(betas, betas)],\n",
    "    columns=[\"_\".join(x) for x in product([\"prior\", \"posterior\"], [\"κ\", \"a\", \"b\"])]\n",
    "    )\n",
    "\n",
    "df_met[\"kl_dirichlet\"] = df_met.apply(\n",
    "    lambda x: kl_util_dirichlet(\n",
    "        [x[\"prior_a\"], x[\"prior_b\"]],\n",
    "         [x[\"posterior_a\"], x[\"posterior_b\"]]),\n",
    "    axis=1)\n",
    "\n",
    "df_kl = df_met[[\"prior_κ\", \"posterior_κ\", \"kl_dirichlet\"]].pivot(values=\"kl_dirichlet\", columns=\"prior_κ\", index=\"posterior_κ\").iloc[::-1]\n",
    "\n",
    "# Plot the heatmap in the center\n",
    "ax_heatmap = plt.subplot(gs[0:5, 2:8])\n",
    "g = sns.heatmap(df_kl, ax=ax_heatmap, cmap='viridis', annot=False, cbar=True)\n",
    "\n",
    "# Create the dataframe for the x- and y-axes\n",
    "concentrations = [2, 25, 50, 75, 100]\n",
    "dfs = []\n",
    "m = 0.5\n",
    "for k in concentrations:\n",
    "    dfs.append(return_beta(m, k, mode_concentration=True))\n",
    "df_ax = pd.concat(dfs)\n",
    "\n",
    "# Plot the plots on the left side\n",
    "for i, k_value in enumerate([100, 75, 50, 25, 2]):\n",
    "    ax_left = plt.subplot(gs[i, 0])\n",
    "    g = sns.lineplot(x='p(yes)', y='density', data=df_ax[df_ax['κ'] == k_value], ax=ax_left)\n",
    "    g.set_ylim((0, 10))\n",
    "    ax_left.set(xlabel='', ylabel='', xticklabels=[], yticklabels=[])\n",
    "    ax_left.tick_params(axis='both', which='both', length=0)  # Remove tick marks\n",
    "\n",
    "\n",
    "# Plot the plots along the bottom\n",
    "for i, k_value in enumerate([2, 25, 50, 75, 100]):\n",
    "    ax_bottom = plt.subplot(gs[6, i + 2])\n",
    "    g = sns.lineplot(x='p(yes)', y='density', data=df_ax[df_ax['κ'] == k_value], ax=ax_bottom)\n",
    "    g.set_ylim((0, 10))\n",
    "    ax_bottom.set(xlabel='', ylabel='', xticklabels=[], yticklabels=[])\n",
    "    ax_bottom.tick_params(axis='both', which='both', length=0)  # Remove tick marks\n",
    "\n",
    "\n",
    "plt.subplots_adjust(left=0.1, right=0.9, top=0.9, bottom=0.1, wspace=0.4, hspace=0.4)\n"
   ],
   "metadata": {
    "colab": {
     "base_uri": "https://localhost:8080/",
     "height": 522
    },
    "id": "17BShBceHpJ-",
    "executionInfo": {
     "status": "ok",
     "timestamp": 1712350864766,
     "user_tz": -120,
     "elapsed": 1761,
     "user": {
      "displayName": "Alex Warstadt",
      "userId": "10715284802802833043"
     }
    },
    "outputId": "adf03f8e-20a7-49c7-e648-836e27410ca3"
   },
   "execution_count": null,
   "outputs": []
  },
  {
   "cell_type": "markdown",
   "source": [
    "### Redo this example but changing the mode"
   ],
   "metadata": {
    "id": "O2qahZ2hsGds"
   }
  },
  {
   "cell_type": "code",
   "source": [
    "import matplotlib.pyplot as plt\n",
    "import matplotlib.gridspec as gridspec\n",
    "from matplotlib.ticker import StrMethodFormatter\n",
    "import seaborn as sns\n",
    "\n",
    "\n",
    "def make_gridspec():\n",
    "    # Set up the gridspec\n",
    "    fig = plt.figure(figsize=(7, 6))\n",
    "    gs = gridspec.GridSpec(7, 8, width_ratios=[0.2, 0.05, 0.2, 0.2, 0.2, 0.2, 0.2, 0.3], height_ratios=[0.2, 0.2, 0.2, 0.2, 0.2, 0.1, 0.2])\n",
    "    return gs\n",
    "\n",
    "\n",
    "def df_for_heatmap(concentration_prior, concentration_posterior, f_metric):\n",
    "    modes = np.linspace(0, 1, 21)\n",
    "    betas_prior = []\n",
    "    betas_posterior = []\n",
    "    for m in modes:\n",
    "        a, b = fit_beta_mode_concentration(m, concentration_prior)\n",
    "        betas_prior.append((m, a, b))\n",
    "        a, b = fit_beta_mode_concentration(m, concentration_posterior)\n",
    "        betas_posterior.append((m, a, b))\n",
    "\n",
    "    df_met = pd.DataFrame(\n",
    "        [(a, b, c, d, e, f) for (a, b, c), (d, e, f) in product(betas_prior, betas_posterior)],\n",
    "        columns=[\"_\".join(x) for x in product([\"prior\", \"posterior\"], [\"ω\", \"a\", \"b\"])]\n",
    "        )\n",
    "\n",
    "    df_met[f_metric.__name__] = df_met.apply(\n",
    "        lambda x: f_metric(\n",
    "            [x[\"prior_a\"], x[\"prior_b\"]],\n",
    "            [x[\"posterior_a\"], x[\"posterior_b\"]]),\n",
    "        axis=1)\n",
    "\n",
    "    df_met = df_met[[\"prior_ω\", \"posterior_ω\", f_metric.__name__]].pivot(values=f_metric.__name__, columns=\"prior_ω\", index=\"posterior_ω\").iloc[::-1]\n",
    "    return df_met\n",
    "\n",
    "\n",
    "# def plot_heatmap(gridspec, df_metric):\n",
    "#     ax_heatmap = plt.subplot(gridspec[0:5, 2:8])\n",
    "#     g = sns.heatmap(df_metric, ax=ax_heatmap, cmap='viridis', annot=False, cbar=True, vmin=0, vmax=1)\n",
    "#     return g\n",
    "\n",
    "def plot_heatmap(df_metric, ax, vmax=1, cbar=True):\n",
    "    g = sns.heatmap(df_metric, ax=ax, cmap='viridis', annot=False, cbar=cbar, vmin=0, vmax=vmax)\n",
    "    return g\n",
    "\n",
    "\n",
    "def make_df_for_axes(concentration):\n",
    "    modes = [1, 0.75, 0.5, 0.25, 0]\n",
    "    dfs = []\n",
    "    for m in modes:\n",
    "        dfs.append(return_beta(m, concentration, mode_concentration=True))\n",
    "    df_ax = pd.concat(dfs)\n",
    "    return df_ax\n",
    "\n",
    "\n",
    "def plot_axes(gridspec, df_for_axes_prior, df_for_axes_posterior):\n",
    "    # Plot the plots on the left side\n",
    "    for i, m_value in enumerate([1, 0.75, 0.5, 0.25, 0]):\n",
    "        ax_left = plt.subplot(gridspec[i, 0])\n",
    "        g = sns.lineplot(x='p(yes)', y='density', data=df_for_axes_prior[df_for_axes_prior['ω'] == m_value], ax=ax_left)\n",
    "        g.set_ylim((0, 10))\n",
    "        ax_left.set(xlabel='', ylabel='', xticklabels=[], yticklabels=[])\n",
    "        ax_left.tick_params(axis='both', which='both', length=0)  # Remove tick marks\n",
    "\n",
    "    # Plot the plots along the bottom\n",
    "    for i, k_value in enumerate([0, 0.25, 0.5, 0.75, 1]):\n",
    "        ax_bottom = plt.subplot(gridspec[6, i + 2])\n",
    "        g = sns.lineplot(x='p(yes)', y='density', data=df_for_axes_posterior[df_for_axes_posterior['ω'] == k_value], ax=ax_bottom)\n",
    "        g.set_ylim((0, 10))\n",
    "        ax_bottom.set(xlabel='', ylabel='', xticklabels=[], yticklabels=[])\n",
    "        ax_bottom.tick_params(axis='both', which='both', length=0)  # Remove tick marks\n",
    "\n",
    "def plot_axis(df, axs):\n",
    "    for ax, m_value in zip(axs, [0, 0.25, 0.5, 0.75, 1]):\n",
    "        g = sns.lineplot(x='p(yes)', y='density', data=df[df['ω'] == m_value], ax=ax)\n",
    "        g.set_ylim((0, 10))\n",
    "        ax.set(xlabel='', ylabel='', xticklabels=[], yticklabels=[])\n",
    "        ax.tick_params(axis='both', which='both', length=0)\n",
    "\n",
    "\n",
    "\n",
    "# # =========== MAIN =============\n",
    "\n",
    "# CONC_prior = 5\n",
    "# CONC_posterior = 10\n",
    "# gs = make_gridspec()\n",
    "# ax_heatmap = plt.subplot(gs[0:5, 2:8])\n",
    "# df_kl = df_for_heatmap(concentration_prior=CONC_prior, concentration_posterior=CONC_posterior, f_metric=kl_util_dirichlet)\n",
    "# g = plot_heatmap(df_kl, ax=ax_heatmap)\n",
    "# df_ax_prior = make_df_for_axes(concentration=CONC_prior)\n",
    "# df_ax_posterior = make_df_for_axes(concentration=CONC_posterior)\n",
    "# plot_axes(gs, df_ax_prior, df_ax_posterior)\n",
    "# plt.subplots_adjust(left=0.1, right=0.9, top=0.9, bottom=0.1, wspace=0.4, hspace=0.4)"
   ],
   "metadata": {
    "id": "Cst6Zt7JrkaY"
   },
   "execution_count": null,
   "outputs": []
  },
  {
   "cell_type": "markdown",
   "source": [
    "Let's take this heatmap and repeat multiple times"
   ],
   "metadata": {
    "id": "_oPC4-k1YFPf"
   }
  },
  {
   "cell_type": "code",
   "source": [
    "from math import ceil\n",
    "\n",
    "def make_heatmap_grid(metric, title, vmax=1, prior_posn=(-8, -0.2), posterior_posn=(-18.5, 0.5), title_posn=(-8, 1.05)):\n",
    "    fig = plt.figure(figsize=(6, 6))\n",
    "\n",
    "    n_conc = 4\n",
    "    gs = gridspec.GridSpec(n_conc, n_conc+1, width_ratios=[1] * n_conc + [0.3], height_ratios=[1] * n_conc)\n",
    "    concentrations = np.geomspace(2, 128, n_conc)\n",
    "\n",
    "    def plot_heatmap(df_metric, ax, cbar=True):\n",
    "        g = sns.heatmap(df_metric, ax=ax, cmap='viridis', annot=False, cbar=cbar, vmin=0, vmax=vmax)\n",
    "        return g\n",
    "\n",
    "    for i, conc_prior in enumerate(concentrations):\n",
    "        for j, conc_posterior in enumerate(concentrations):\n",
    "            ax = plt.subplot(gs[n_conc-i-1,j])\n",
    "            # ax.xaxis.set_major_formatter(FormatStrFormatter('%0.1f'))\n",
    "            df = df_for_heatmap(concentration_prior=conc_prior, concentration_posterior=conc_posterior, f_metric=metric)\n",
    "            g = plot_heatmap(df, ax=ax, cbar=False)\n",
    "            # g = make_heatmap(df_kl, ax=ax)\n",
    "            if j > 0:\n",
    "                ax.set_yticks([])\n",
    "                ax.set_ylabel(\"\")\n",
    "            else:\n",
    "                ax.set_ylabel(f\"κ={round(conc_prior)}\\nω=...\")\n",
    "                ax.set_yticklabels([\"{:.1f}\".format(float(t.get_text())) for t in ax.get_yticklabels()])\n",
    "            if i > 0:\n",
    "                ax.set_xticks([])\n",
    "                ax.set_xlabel(\"\")\n",
    "            else:\n",
    "                ax.set_xlabel(f\"ω=...\\nκ={round(conc_posterior)}\")\n",
    "                ax.set_xticklabels([\"{:.1f}\".format(float(t.get_text())) for t in ax.get_xticklabels()])\n",
    "            # ax.xaxis.set_major_formatter(StrMethodFormatter('{x:.1f}'))\n",
    "\n",
    "\n",
    "    cbar_ax = fig.add_subplot(gs[:, -1])\n",
    "    cbar = fig.colorbar(g.collections[0], cax=cbar_ax)\n",
    "    plt.text(posterior_posn[0], posterior_posn[1], 'Posterior', va='center', ha='center', rotation=90, fontsize=16)\n",
    "    plt.text(prior_posn[0], prior_posn[1], 'Prior', va='center', ha='center', fontsize=16)\n",
    "    plt.text(title_posn[0], title_posn[1], title, va='center', ha='center', fontsize=16)\n",
    "\n",
    "    plt.subplots_adjust(left=0.1, right=0.9, top=0.9, bottom=0.2, wspace=0.2, hspace=0.2)"
   ],
   "metadata": {
    "id": "LEsB-HrrY7D0"
   },
   "execution_count": null,
   "outputs": []
  },
  {
   "cell_type": "code",
   "source": [
    "make_heatmap_grid(metric=kl_util_dirichlet, title=\"2nd Order KL Utility\")\n",
    "plt.savefig(\"/content/drive/MyDrive/relevance/figures/second_order_kl.pdf\", bbox_inches=\"tight\")"
   ],
   "metadata": {
    "colab": {
     "base_uri": "https://localhost:8080/",
     "height": 582
    },
    "id": "JJRUGURnnGqn",
    "executionInfo": {
     "status": "ok",
     "timestamp": 1712351150524,
     "user_tz": -120,
     "elapsed": 8509,
     "user": {
      "displayName": "Alex Warstadt",
      "userId": "10715284802802833043"
     }
    },
    "outputId": "9f3e003b-3397-45b5-f7e3-d72267b5eed7"
   },
   "execution_count": null,
   "outputs": []
  },
  {
   "cell_type": "code",
   "source": [
    "make_heatmap_grid(metric=entropy_change_dirichlet, title=\"2nd Order Entropy Change\")\n",
    "plt.savefig(\"/content/drive/MyDrive/relevance/figures/second_order_ec.pdf\", bbox_inches=\"tight\")"
   ],
   "metadata": {
    "colab": {
     "base_uri": "https://localhost:8080/",
     "height": 582
    },
    "id": "q7GIYTUenWvw",
    "executionInfo": {
     "status": "ok",
     "timestamp": 1712351183530,
     "user_tz": -120,
     "elapsed": 9967,
     "user": {
      "displayName": "Alex Warstadt",
      "userId": "10715284802802833043"
     }
    },
    "outputId": "ab94bc03-7100-4cfb-e5db-7e4ff133daca"
   },
   "execution_count": null,
   "outputs": []
  },
  {
   "cell_type": "code",
   "source": [
    "make_heatmap_grid(metric=beta_bayes_factor_util, title=\"2nd Order Bayes Factor Utility\")\n",
    "plt.savefig(\"/content/drive/MyDrive/relevance/figures/second_order_bf.pdf\", bbox_inches=\"tight\")"
   ],
   "metadata": {
    "colab": {
     "base_uri": "https://localhost:8080/",
     "height": 582
    },
    "id": "jcXt-B_EnalD",
    "executionInfo": {
     "status": "ok",
     "timestamp": 1712351284117,
     "user_tz": -120,
     "elapsed": 4576,
     "user": {
      "displayName": "Alex Warstadt",
      "userId": "10715284802802833043"
     }
    },
    "outputId": "a4fdcb86-eea5-4fe6-90a2-ada3916fb723"
   },
   "execution_count": null,
   "outputs": []
  },
  {
   "cell_type": "code",
   "source": [
    "make_heatmap_grid(metric=beta_belief_change, vmax=100, prior_posn=(-8, -20), posterior_posn=(-18.5, 50), title_posn=(-8, 105), title=\"2nd Order Belief Change\")\n",
    "plt.savefig(\"/content/drive/MyDrive/relevance/figures/second_order_bc.pdf\", bbox_inches=\"tight\")"
   ],
   "metadata": {
    "colab": {
     "base_uri": "https://localhost:8080/",
     "height": 582
    },
    "id": "WDNTBKXEneay",
    "executionInfo": {
     "status": "ok",
     "timestamp": 1712351313260,
     "user_tz": -120,
     "elapsed": 4507,
     "user": {
      "displayName": "Alex Warstadt",
      "userId": "10715284802802833043"
     }
    },
    "outputId": "b5587847-2952-4668-e2e4-0da22cf03b81"
   },
   "execution_count": null,
   "outputs": []
  },
  {
   "cell_type": "markdown",
   "source": [
    "Now we do this with the little axes plots"
   ],
   "metadata": {
    "id": "1oJkMz9d34z9"
   }
  },
  {
   "cell_type": "code",
   "source": [
    "def make_heatmap_grid(f_metric, vmax=1):\n",
    "    fig = plt.figure(figsize=(10,10))\n",
    "\n",
    "    n_conc = 5\n",
    "    n_ax_labels = 5\n",
    "    gs = gridspec.GridSpec(1+n_ax_labels*n_conc, 2+n_ax_labels*(n_conc), width_ratios=[1] * (1+n_ax_labels*n_conc) + [1], height_ratios=[1] * (1+n_ax_labels*n_conc))\n",
    "    concentrations = np.geomspace(2, 100, n_conc)\n",
    "\n",
    "    for i, conc_prior in enumerate(concentrations):\n",
    "        for j, conc_posterior in enumerate(concentrations):\n",
    "            ax = plt.subplot(\n",
    "                gs[n_ax_labels*(n_conc-j-1):\n",
    "                n_ax_labels*(n_conc-j),\n",
    "                1+n_ax_labels*i:\n",
    "                n_ax_labels*(i+1)+1]\n",
    "                )\n",
    "            ax.xaxis.set_major_formatter(StrMethodFormatter('{x:,.0f}'))\n",
    "            df_kl = df_for_heatmap(concentration_prior=conc_prior, concentration_posterior=conc_posterior, f_metric=f_metric)\n",
    "            g = plot_heatmap(df_kl, ax=ax, vmax=vmax, cbar=False)\n",
    "            ax.set_xticks([])\n",
    "            ax.set_yticks([])\n",
    "            ax.set_xlabel(\"\")\n",
    "            ax.set_ylabel(\"\")\n",
    "\n",
    "\n",
    "    for i, conc_prior in enumerate(concentrations):\n",
    "        df_ax = make_df_for_axes(conc_prior)\n",
    "        axs = [plt.subplot(gs[n_ax_labels*(n_conc-i)-j-1, 0]) for j in range(n_ax_labels)]\n",
    "        plot_axis(df_ax, axs)\n",
    "\n",
    "        axs = [plt.subplot(gs[-1, 1+n_ax_labels*i+j]) for j in range(n_ax_labels)]\n",
    "        plot_axis(df_ax, axs)\n",
    "\n",
    "\n",
    "    cbar_ax = fig.add_subplot(gs[:-1, -1])\n",
    "    cbar = fig.colorbar(g.collections[0], cax=cbar_ax)\n",
    "    plt.subplots_adjust(left=0.1, right=0.9, top=0.9, bottom=0.1, wspace=0.1, hspace=0.1)\n",
    "\n",
    "make_heatmap_grid(kl_util_dirichlet)\n",
    "plt.savefig(\"/content/drive/MyDrive/relevance/figures/kl_2order.pdf\")"
   ],
   "metadata": {
    "colab": {
     "base_uri": "https://localhost:8080/",
     "height": 842
    },
    "id": "7pzaFEvK4OrD",
    "executionInfo": {
     "status": "ok",
     "timestamp": 1712350912883,
     "user_tz": -120,
     "elapsed": 26997,
     "user": {
      "displayName": "Alex Warstadt",
      "userId": "10715284802802833043"
     }
    },
    "outputId": "cff8735d-2a48-48c1-b026-61984352e608"
   },
   "execution_count": null,
   "outputs": []
  },
  {
   "cell_type": "code",
   "source": [
    "make_heatmap_grid(entropy_change_dirichlet)\n",
    "plt.savefig(\"/content/drive/MyDrive/relevance/figures/entropy_2order.pdf\")"
   ],
   "metadata": {
    "colab": {
     "base_uri": "https://localhost:8080/",
     "height": 842
    },
    "id": "R0Xz_oIZujzv",
    "executionInfo": {
     "status": "ok",
     "timestamp": 1712350934298,
     "user_tz": -120,
     "elapsed": 21418,
     "user": {
      "displayName": "Alex Warstadt",
      "userId": "10715284802802833043"
     }
    },
    "outputId": "f1ec5755-e399-47a2-9f24-35c126c82660"
   },
   "execution_count": null,
   "outputs": []
  },
  {
   "cell_type": "code",
   "source": [
    "make_heatmap_grid(beta_bayes_factor_util, vmax=1)\n",
    "plt.savefig(\"/content/drive/MyDrive/relevance/figures/bf_2order.pdf\")"
   ],
   "metadata": {
    "colab": {
     "base_uri": "https://localhost:8080/",
     "height": 842
    },
    "id": "LCHhFZAeuxdq",
    "executionInfo": {
     "status": "ok",
     "timestamp": 1712350949214,
     "user_tz": -120,
     "elapsed": 14921,
     "user": {
      "displayName": "Alex Warstadt",
      "userId": "10715284802802833043"
     }
    },
    "outputId": "89f9a653-0fc2-4faa-ba1b-78e95380adf8"
   },
   "execution_count": null,
   "outputs": []
  },
  {
   "cell_type": "code",
   "source": [
    "make_heatmap_grid(beta_belief_change, vmax=100)\n",
    "plt.savefig(\"/content/drive/MyDrive/relevance/figures/bc_2order.pdf\")"
   ],
   "metadata": {
    "colab": {
     "base_uri": "https://localhost:8080/",
     "height": 842
    },
    "id": "c-W6fO1z1Ysu",
    "executionInfo": {
     "status": "ok",
     "timestamp": 1712350960787,
     "user_tz": -120,
     "elapsed": 11577,
     "user": {
      "displayName": "Alex Warstadt",
      "userId": "10715284802802833043"
     }
    },
    "outputId": "287d12d1-fff1-46a5-f779-f7081f33311f"
   },
   "execution_count": null,
   "outputs": []
  },
  {
   "cell_type": "markdown",
   "source": [
    "# Old crap related to heatmaps"
   ],
   "metadata": {
    "id": "PuURloPgrIhf"
   }
  },
  {
   "cell_type": "code",
   "execution_count": null,
   "metadata": {
    "id": "7rnBB3140UvC",
    "executionInfo": {
     "status": "ok",
     "timestamp": 1706713132672,
     "user_tz": -60,
     "elapsed": 9,
     "user": {
      "displayName": "Alex Warstadt",
      "userId": "10715284802802833043"
     }
    },
    "colab": {
     "base_uri": "https://localhost:8080/",
     "height": 424
    },
    "outputId": "ff61a982-df21-4926-c584-127993d23440"
   },
   "source": [
    "# We'll just look at the mode of 0.5\n",
    "mode = 0.5\n",
    "concentrations = np.linspace(2, 100, 99)\n",
    "betas = []\n",
    "for k in concentrations:\n",
    "    a, b = fit_beta_mode_concentration(mode, k)\n",
    "    betas.append((k, a, b))\n",
    "\n",
    "df = pd.DataFrame(\n",
    "    [(a, b, c, d, e, f) for (a, b, c), (d, e, f) in product(betas, betas)],\n",
    "    columns=[\"_\".join(x) for x in product([\"prior\", \"posterior\"], [\"κ\", \"a\", \"b\"])]\n",
    "    )\n",
    "\n",
    "df"
   ],
   "outputs": []
  },
  {
   "cell_type": "code",
   "source": [
    "df[\"kl_dirichlet\"] = df.apply(\n",
    "    lambda x: kl_util_dirichlet(\n",
    "        [x[\"prior_a\"], x[\"prior_b\"]],\n",
    "         [x[\"posterior_a\"], x[\"posterior_b\"]]),\n",
    "    axis=1)\n",
    "\n",
    "df_kl = df[[\"prior_κ\", \"posterior_κ\", \"kl_dirichlet\"]].pivot(values=\"kl_dirichlet\", columns=\"prior_κ\", index=\"posterior_κ\").iloc[::-1]\n",
    "sns.heatmap(df_kl)"
   ],
   "metadata": {
    "id": "jQSE55X6BG15",
    "executionInfo": {
     "status": "ok",
     "timestamp": 1706713133537,
     "user_tz": -60,
     "elapsed": 870,
     "user": {
      "displayName": "Alex Warstadt",
      "userId": "10715284802802833043"
     }
    },
    "colab": {
     "base_uri": "https://localhost:8080/",
     "height": 490
    },
    "outputId": "543a1d20-d2e8-4837-9738-2db5fa97547f"
   },
   "execution_count": null,
   "outputs": []
  },
  {
   "cell_type": "code",
   "execution_count": null,
   "metadata": {
    "id": "uMz-BeuoAMtX",
    "executionInfo": {
     "status": "ok",
     "timestamp": 1706713135537,
     "user_tz": -60,
     "elapsed": 2008,
     "user": {
      "displayName": "Alex Warstadt",
      "userId": "10715284802802833043"
     }
    },
    "colab": {
     "base_uri": "https://localhost:8080/",
     "height": 490
    },
    "outputId": "414153b7-0eb2-4aec-c009-67d1c95c3ed7"
   },
   "source": [
    "df[\"entropy_change_dirichlet\"] = df.apply(\n",
    "    lambda x: entropy_change_dirichlet(\n",
    "        [x[\"prior_a\"], x[\"prior_b\"]],\n",
    "         [x[\"posterior_a\"], x[\"posterior_b\"]]),\n",
    "    axis=1)\n",
    "\n",
    "df_er = df[[\"prior_κ\", \"posterior_κ\", \"entropy_change_dirichlet\"]].pivot(values=\"entropy_change_dirichlet\", columns=\"prior_κ\", index=\"posterior_κ\").iloc[::-1]\n",
    "sns.heatmap(df_er)"
   ],
   "outputs": []
  },
  {
   "cell_type": "code",
   "execution_count": null,
   "metadata": {
    "id": "eGqkx2nBE8XS",
    "executionInfo": {
     "status": "error",
     "timestamp": 1706713135537,
     "user_tz": -60,
     "elapsed": 10,
     "user": {
      "displayName": "Alex Warstadt",
      "userId": "10715284802802833043"
     }
    },
    "colab": {
     "base_uri": "https://localhost:8080/",
     "height": 381
    },
    "outputId": "5260e1e9-be26-45ec-df11-bf88982a28f1"
   },
   "source": [
    "df[\"beta_bayes_factor\"] = df.apply(\n",
    "    lambda x: beta_bayes_factor(\n",
    "        [x[\"prior_a\"], x[\"prior_b\"]],\n",
    "         [x[\"posterior_a\"], x[\"posterior_b\"]]),\n",
    "    axis=1)\n",
    "\n",
    "df_bbf = df[[\"prior_k\", \"posterior_k\", \"beta_bayes_factor\"]].pivot(values=\"beta_bayes_factor\", columns=\"prior_k\", index=\"posterior_k\").iloc[::-1]\n",
    "sns.heatmap(df_bbf)"
   ],
   "outputs": []
  },
  {
   "cell_type": "code",
   "execution_count": null,
   "metadata": {
    "id": "LfBsjQmVGHRU"
   },
   "source": [
    "df[\"beta_belief_change\"] = df.apply(\n",
    "    lambda x: beta_belief_change(\n",
    "        [x[\"prior_a\"], x[\"prior_b\"]],\n",
    "         [x[\"posterior_a\"], x[\"posterior_b\"]]),\n",
    "    axis=1)\n",
    "\n",
    "df_bbc = df[[\"prior_k\", \"posterior_k\", \"beta_belief_change\"]].pivot(values=\"beta_belief_change\", columns=\"prior_k\", index=\"posterior_k\").iloc[::-1]\n",
    "sns.heatmap(df_bbc)"
   ],
   "outputs": []
  },
  {
   "cell_type": "code",
   "execution_count": null,
   "metadata": {
    "id": "WynWbiT-HBtd"
   },
   "source": [
    "# We'll just look at a concentration of 10\n",
    "modes = np.linspace(0, 1, 101)\n",
    "concentration = 10\n",
    "betas = []\n",
    "for m in modes:\n",
    "    a, b = fit_beta_mode_concentration(m, concentration)\n",
    "    betas.append((m, a, b))\n",
    "\n",
    "df = pd.DataFrame(\n",
    "    [(a, b, c, d, e, f) for (a, b, c), (d, e, f) in product(betas, betas)],\n",
    "    columns=[\"_\".join(x) for x in product([\"prior\", \"posterior\"], [\"ω\", \"a\", \"b\"])]\n",
    "    )\n",
    "\n",
    "for fun in [kl_util_dirichlet, entropy_change_dirichlet, beta_bayes_factor, beta_belief_change]:\n",
    "    metric_name = fun.__name__\n",
    "    df[metric_name] = df.apply(\n",
    "        lambda x: fun(\n",
    "            [x[\"prior_a\"], x[\"prior_b\"]],\n",
    "             [x[\"posterior_a\"], x[\"posterior_b\"]]),\n",
    "        axis=1)\n",
    "\n",
    "df = pd.DataFrame(\n",
    "        df.set_index([\"prior_ω\", \"prior_a\", \"prior_b\", \"posterior_a\", \"posterior_b\", \"posterior_ω\"]).stack(), columns=[\"score\"]\n",
    "    ).reset_index().rename({\"level_6\": \"metric\"}, axis=1)\n",
    "\n",
    "def draw_heatmap(*args, **kwargs):\n",
    "    data = kwargs.pop('data')\n",
    "    d = data.pivot(index=args[1], columns=args[0], values=args[2]).iloc[::-1]\n",
    "    sns.heatmap(d, **kwargs)\n",
    "\n",
    "fg = sns.FacetGrid(df, col='metric')\n",
    "fg.map_dataframe(draw_heatmap, 'prior_ω', 'posterior_ω', 'score', cbar=False)\n",
    "\n",
    "modes = np.linspace(0, 1, 4)\n",
    "concentration = 10\n",
    "dfs = []\n",
    "for m, k in product(modes, concentrations):\n",
    "    dfs.append(return_beta(m, k, mode_concentration=True))\n",
    "df = pd.concat(dfs)\n",
    "g = sns.relplot(kind=\"line\", data=df, x=\"p(yes)\", y=\"density\", col=\"ω\")\n",
    "for ax in g.axes.flat:\n",
    "    ax.set_ylim(0, 5)\n"
   ],
   "outputs": []
  }
 ],
 "metadata": {
  "colab": {
   "provenance": [],
   "authorship_tag": "ABX9TyPoGYb4fclbld0kA7RkfUWD"
  },
  "kernelspec": {
   "display_name": "Python 3",
   "name": "python3"
  },
  "language_info": {
   "name": "python"
  }
 },
 "nbformat": 4,
 "nbformat_minor": 0
}
