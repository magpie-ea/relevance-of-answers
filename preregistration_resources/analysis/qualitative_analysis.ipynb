{
 "cells": [
  {
   "cell_type": "markdown",
   "metadata": {
    "id": "kyjhyurlV2jt"
   },
   "source": [
    "# Setup"
   ]
  },
  {
   "cell_type": "code",
   "execution_count": 1,
   "metadata": {
    "executionInfo": {
     "elapsed": 2451,
     "status": "ok",
     "timestamp": 1713432624319,
     "user": {
      "displayName": "Alex Warstadt",
      "userId": "10715284802802833043"
     },
     "user_tz": -120
    },
    "id": "C6PmKiCEBLr6"
   },
   "source": [
    "from google.colab import drive\n",
    "import pandas as pd\n",
    "import seaborn as sns\n",
    "import matplotlib.pyplot as plt\n",
    "from scipy.stats import pearsonr\n",
    "import numpy as np"
   ],
   "outputs": []
  },
  {
   "cell_type": "code",
   "execution_count": 2,
   "metadata": {
    "colab": {
     "base_uri": "https://localhost:8080/",
     "height": 1000
    },
    "executionInfo": {
     "elapsed": 100767,
     "status": "ok",
     "timestamp": 1713432725079,
     "user": {
      "displayName": "Alex Warstadt",
      "userId": "10715284802802833043"
     },
     "user_tz": -120
    },
    "id": "o5Xvo6T911LX",
    "outputId": "21e6d425-b72b-49e9-a925-2d3a431b9b1a"
   },
   "source": [
    "drive.mount('/content/drive')\n",
    "df = pd.read_csv('/content/drive/MyDrive/relevance/processed_data_with_stimuli.csv')\n",
    "df\n",
    "# df = pd.read_json(f'/content/drive/MyDrive/relevance/processed.jsonl', orient=\"records\", lines=True)\n",
    "# df_stim = pd.read_csv('/content/drive/MyDrive/relevance/relevance_stimuli.csv')"
   ],
   "outputs": []
  },
  {
   "cell_type": "code",
   "execution_count": null,
   "metadata": {
    "colab": {
     "base_uri": "https://localhost:8080/"
    },
    "executionInfo": {
     "elapsed": 7,
     "status": "ok",
     "timestamp": 1711634121671,
     "user": {
      "displayName": "Alex Warstadt",
      "userId": "10715284802802833043"
     },
     "user_tz": -60
    },
    "id": "5Q71oH2H3adt",
    "outputId": "f5c50f8e-2978-401e-b238-b62950181f88"
   },
   "source": [
    "df.columns"
   ],
   "outputs": []
  },
  {
   "cell_type": "code",
   "execution_count": 3,
   "metadata": {
    "id": "aGnyesjo4WOT",
    "executionInfo": {
     "status": "ok",
     "timestamp": 1713432736730,
     "user_tz": -120,
     "elapsed": 249,
     "user": {
      "displayName": "Alex Warstadt",
      "userId": "10715284802802833043"
     }
    }
   },
   "source": [
    "cols = [\n",
    "\n",
    "    # Trial Metadata\n",
    "    # 'submission_id',\n",
    "    # 'StimID',\n",
    "    'RowID',\n",
    "    'AnswerCertainty',\n",
    "    # 'AnswerPolarity',\n",
    "    'ContextType',\n",
    "    'Answer',\n",
    "    'Context',\n",
    "    'YourQuestionIntro',\n",
    "    'YourQuestion',\n",
    "\n",
    "    # Raw Judgments\n",
    "    'pri',\n",
    "    'pos',\n",
    "    'conf_pri',\n",
    "    'conf_pos',\n",
    "    'rel',\n",
    "\n",
    "    # First Order Measures\n",
    "    # 'bch',\n",
    "    # 'ech',\n",
    "    # 'klu',\n",
    "    # 'bfu',\n",
    "\n",
    "    # Second Order Measures\n",
    "    # '2ord_bch',\n",
    "    # 'beta_ech',\n",
    "    # 'beta_klu',\n",
    "    # 'beta_bfu',\n",
    "    # 'beta_bch',\n",
    "\n",
    "    # Ranks / Rank diffs\n",
    "    'rel_rank',\n",
    "\n",
    "    # 'bch_rank_diff',\n",
    "    # 'ech_rank_diff',\n",
    "    # 'klu_rank_diff',\n",
    "    'bfu_rank_diff',\n",
    "\n",
    "    # '2ord_bch_rank_diff',\n",
    "    # 'beta_ech_rank_diff',\n",
    "    # 'beta_klu_rank_diff',\n",
    "    'beta_bfu_rank_diff',\n",
    "    # 'beta_bch_rank_diff',\n",
    "\n",
    "]"
   ],
   "outputs": []
  },
  {
   "cell_type": "markdown",
   "metadata": {
    "id": "i-U1GsZJ2onJ"
   },
   "source": [
    "# General analysis"
   ]
  },
  {
   "cell_type": "markdown",
   "metadata": {
    "id": "CpQyLqLdfQzL"
   },
   "source": [
    "Let's find examples where there is high relevance but low belief change"
   ]
  },
  {
   "cell_type": "code",
   "execution_count": null,
   "metadata": {
    "id": "mAUp5re3fUxm"
   },
   "source": [
    "df[df.apply(lambda x: x.bch < 0.5 and x[\"2ord_bch\"] < 4 and x.rel > 0.8 and x.AnswerCertainty == \"exhaustive\", axis=1)][cols]"
   ],
   "outputs": []
  },
  {
   "cell_type": "markdown",
   "metadata": {
    "id": "pGzBVjpn2Iwt"
   },
   "source": [
    "Let's find even more extreme examples"
   ]
  },
  {
   "cell_type": "code",
   "execution_count": null,
   "metadata": {
    "id": "FQMhjFsias7y"
   },
   "source": [
    "df[df.apply(lambda x: x.bch < 0.2 and x[\"2ord_bch\"] < 3 and x.rel > 0.8, axis=1)][cols]"
   ],
   "outputs": []
  },
  {
   "cell_type": "markdown",
   "metadata": {
    "id": "YdP-A4Rs2Yx3"
   },
   "source": [
    "Let's find the school bus example"
   ]
  },
  {
   "cell_type": "code",
   "execution_count": null,
   "metadata": {
    "id": "JPMA3d_o2a3L"
   },
   "source": [
    "df[df.apply(lambda x: x.YourQuestion == \"Is school canceled?\", axis=1)][cols]"
   ],
   "outputs": []
  },
  {
   "cell_type": "markdown",
   "metadata": {
    "id": "oQ3xtT0KVPp-"
   },
   "source": [
    "Here are examples with low belief change but high relevance for non-answers:"
   ]
  },
  {
   "cell_type": "code",
   "execution_count": null,
   "metadata": {
    "colab": {
     "base_uri": "https://localhost:8080/",
     "height": 1000
    },
    "executionInfo": {
     "elapsed": 9,
     "status": "ok",
     "timestamp": 1711634480427,
     "user": {
      "displayName": "Alex Warstadt",
      "userId": "10715284802802833043"
     },
     "user_tz": -60
    },
    "id": "JPGMwEZHVoHd",
    "outputId": "bd0cba57-68f9-4348-d047-855cde5cb2c8"
   },
   "source": [
    "edf[df.apply(lambda x: x.bch < 0.1 and x[\"2ord_bch\"] < 2 and x.rel > 0.3 and x.AnswerCertainty == \"non_answer\", axis=1)][cols]"
   ],
   "outputs": []
  },
  {
   "cell_type": "markdown",
   "metadata": {
    "id": "blZrAGv0-Ak9"
   },
   "source": [
    "# Does Prior Matter?"
   ]
  },
  {
   "cell_type": "code",
   "execution_count": 6,
   "metadata": {
    "executionInfo": {
     "elapsed": 2,
     "status": "ok",
     "timestamp": 1713432812022,
     "user": {
      "displayName": "Alex Warstadt",
      "userId": "10715284802802833043"
     },
     "user_tz": -120
    },
    "id": "vtGogqD2-CdS"
   },
   "source": [
    "cols = [\n",
    "\n",
    "    # Trial Metadata\n",
    "    # 'submission_id',\n",
    "    'StimID',\n",
    "    # 'RowID',\n",
    "    'AnswerCertainty',\n",
    "    'AnswerPolarity',\n",
    "    'ContextType',\n",
    "    'Answer',\n",
    "    'Context',\n",
    "    'YourQuestionIntro',\n",
    "    'YourQuestion',\n",
    "\n",
    "    # Raw Judgments\n",
    "    'pri',\n",
    "    'pos',\n",
    "    'conf_pri',\n",
    "    'conf_pos',\n",
    "    'rel',\n",
    "\n",
    "    # First Order Measures\n",
    "    'bch',\n",
    "    # 'ech',\n",
    "    # 'klu',\n",
    "    # 'bfu',\n",
    "\n",
    "    # Second Order Measures\n",
    "    # '2ord_bch',\n",
    "    # 'beta_ech',\n",
    "    # 'beta_klu',\n",
    "    # 'beta_bfu',\n",
    "    # 'beta_bch',\n",
    "\n",
    "    # Ranks / Rank diffs\n",
    "    # 'rel_rank',\n",
    "\n",
    "    # 'bch_rank_diff',\n",
    "    # 'ech_rank_diff',\n",
    "    # 'klu_rank_diff',\n",
    "    # 'bfu_rank_diff',\n",
    "\n",
    "    # '2ord_b ch_rank_diff',\n",
    "    # 'beta_ech_rank_diff',\n",
    "    # 'beta_klu_rank_diff',\n",
    "    # 'beta_bfu_rank_diff',\n",
    "    # 'beta_bch_rank_diff',\n",
    "\n",
    "]"
   ],
   "outputs": []
  },
  {
   "cell_type": "code",
   "execution_count": 7,
   "metadata": {
    "colab": {
     "base_uri": "https://localhost:8080/",
     "height": 1000
    },
    "executionInfo": {
     "elapsed": 346,
     "status": "ok",
     "timestamp": 1713432814025,
     "user": {
      "displayName": "Alex Warstadt",
      "userId": "10715284802802833043"
     },
     "user_tz": -120
    },
    "id": "JrdThBtJ-X9V",
    "outputId": "5a8bae13-0ec0-4887-a39d-d1aedf3d0830"
   },
   "source": [
    "df_ = df[cols]\n",
    "df_ = df_[df_.apply(lambda x:\n",
    "                    x.AnswerCertainty != \"non_answer\"\n",
    "                    # and x.ContextType != \"neutral\"\n",
    "                    , axis=1)]\n",
    "df_[\"expected_belief_change\"] = df_.apply(lambda x:\n",
    "                                          \"low\" if x.AnswerPolarity == x.ContextType\n",
    "                                          else \"mid\" if x.ContextType == \"neutral\"\n",
    "                                          else \"high\"\n",
    "                                          , axis=1)\n",
    "df_[\"AnswerCondition\"] = df_.apply(lambda x: x.AnswerCertainty + \"-\" + x.AnswerPolarity, axis=1)\n",
    "# df_.set_index([\"StimID\", \"AnswerCertainty\", \"expected_belief_change\"])\n",
    "df_"
   ],
   "outputs": []
  },
  {
   "cell_type": "markdown",
   "metadata": {
    "id": "vhdtOIK7ElMX"
   },
   "source": [
    "This is how the low- mid- and high-expected belief change relevance scores vary for ALL answers in the dataset."
   ]
  },
  {
   "cell_type": "code",
   "execution_count": null,
   "metadata": {
    "colab": {
     "output_embedded_package_id": "1YbB2EQ8g0Gn-F2bk-KKfvJzAqd8jzwmy",
     "base_uri": "https://localhost:8080/",
     "height": 1000
    },
    "id": "R4_5ozJeBDOO",
    "outputId": "377fab21-0f8b-4dcb-d244-77fa419738e6",
    "executionInfo": {
     "status": "ok",
     "timestamp": 1712490070087,
     "user_tz": -120,
     "elapsed": 38665,
     "user": {
      "displayName": "Alex Warstadt",
      "userId": "10715284802802833043"
     }
    }
   },
   "source": [
    "sns.catplot(data=df_, col=\"AnswerCondition\", row=\"StimID\",\n",
    "            y=\"rel\", hue=\"expected_belief_change\", kind=\"violin\", hue_order=[\"low\", \"mid\", \"high\"])"
   ],
   "outputs": []
  },
  {
   "cell_type": "markdown",
   "source": [
    "Now we take the mean for each `AnswerCondition/StimID pair` and compute the difference for `high` and `low` values of `expected_belief_change`."
   ],
   "metadata": {
    "id": "FlRBA6orXZXN"
   }
  },
  {
   "cell_type": "code",
   "source": [
    "df_diff = df_[[\"StimID\", \"expected_belief_change\", \"AnswerCondition\", \"AnswerCertainty\", \"rel\", \"bch\"]]\n",
    "df_diff = df_diff.groupby([\"StimID\", \"AnswerCondition\", \"AnswerCertainty\", \"expected_belief_change\"]).mean().unstack()\n",
    "\n",
    "df_diff[\"rel_difference\"] = df_diff.apply(lambda x:\n",
    "                                      x[(\"rel\", \"high\")] - x[(\"rel\", \"low\")]\n",
    "                                      , axis=1)\n",
    "df_diff[\"bch_difference\"] = df_diff.apply(lambda x:\n",
    "                                      x[(\"bch\", \"high\")] - x[(\"bch\", \"low\")]\n",
    "                                      , axis=1)\n",
    "df_diff = df_diff.reset_index().droplevel(1, axis=1).drop([\"rel\", \"bch\"], axis=1)\n",
    "df_diff"
   ],
   "metadata": {
    "id": "zStD1MBeiXi-",
    "colab": {
     "base_uri": "https://localhost:8080/",
     "height": 424
    },
    "executionInfo": {
     "status": "ok",
     "timestamp": 1713432951565,
     "user_tz": -120,
     "elapsed": 11,
     "user": {
      "displayName": "Alex Warstadt",
      "userId": "10715284802802833043"
     }
    },
    "outputId": "4511a2f5-34fb-4b2c-ac1a-8c84fd9e0a00"
   },
   "execution_count": 14,
   "outputs": []
  },
  {
   "cell_type": "markdown",
   "source": [
    "Plot by faceting on answer certainty"
   ],
   "metadata": {
    "id": "jt_C_B2NiYLX"
   }
  },
  {
   "cell_type": "code",
   "source": [
    "g = sns.displot(data=df_diff,\n",
    "                hue=\"AnswerCertainty\",\n",
    "                x=\"rel_difference\",\n",
    "                hue_order=[\"low_certainty\", \"high_certainty\", \"exhaustive\"],\n",
    "                kind=\"kde\",\n",
    "                palette=\"viridis\",\n",
    "                fill=True,\n",
    "                aspect=2,\n",
    "                height=3)\n",
    "g.axes.flatten()[0].set_xlabel(\n",
    "    \"\"\"Average relevance of high expected belief change condition\n",
    "        minus average relevance of low expected belief change condition,\n",
    "        by answer.\"\"\")\n",
    "g.set(xlim=(-0.4, 0.4))\n",
    "plt.axvline(x = 0, color = 'orange', linestyle=\"dashed\")\n",
    "\n",
    "plt.savefig(\"/content/drive/MyDrive/relevance/figures/impact_of_prior_by_answer_certainty.pdf\", bbox_inches=\"tight\")"
   ],
   "metadata": {
    "colab": {
     "base_uri": "https://localhost:8080/",
     "height": 339
    },
    "id": "n-2tyNMuXrAy",
    "executionInfo": {
     "status": "ok",
     "timestamp": 1713433561832,
     "user_tz": -120,
     "elapsed": 1509,
     "user": {
      "displayName": "Alex Warstadt",
      "userId": "10715284802802833043"
     }
    },
    "outputId": "5d848f4e-9f39-41d1-8a4c-57c6ff3d778f"
   },
   "execution_count": 32,
   "outputs": []
  },
  {
   "cell_type": "markdown",
   "source": [
    "Plot with no faceting"
   ],
   "metadata": {
    "id": "QyzEUnQKicld"
   }
  },
  {
   "cell_type": "code",
   "source": [
    "g = sns.displot(data=df_diff,\n",
    "                # hue=\"AnswerCertainty\",\n",
    "                x=\"rel_difference\",\n",
    "                # hue_order=[\"low_certainty\", \"high_certainty\", \"exhaustive\"],\n",
    "                kind=\"kde\",\n",
    "                palette=\"viridis\",\n",
    "                fill=True,\n",
    "                aspect=2,\n",
    "                height=3)\n",
    "g.axes.flatten()[0].set_xlabel(\n",
    "    \"\"\"Average relevance of high expected belief change condition\n",
    "        minus average relevance of low expected belief change condition,\n",
    "        by answer.\"\"\")\n",
    "g.set(xlim=(-0.4, 0.4))\n",
    "plt.axvline(x = 0, color = 'orange', linestyle=\"dashed\")\n",
    "\n",
    "plt.savefig(\"/content/drive/MyDrive/relevance/figures/impact_of_prior.pdf\", bbox_inches=\"tight\")"
   ],
   "metadata": {
    "colab": {
     "base_uri": "https://localhost:8080/",
     "height": 375
    },
    "id": "TnrVVr22icF-",
    "executionInfo": {
     "status": "ok",
     "timestamp": 1713433567810,
     "user_tz": -120,
     "elapsed": 535,
     "user": {
      "displayName": "Alex Warstadt",
      "userId": "10715284802802833043"
     }
    },
    "outputId": "859415f7-c5b5-4a27-ef82-05bbfa42371c"
   },
   "execution_count": 33,
   "outputs": []
  },
  {
   "cell_type": "markdown",
   "source": [
    "Plotting belief change difference in the same way"
   ],
   "metadata": {
    "id": "t66LrnWYlYOP"
   }
  },
  {
   "cell_type": "code",
   "source": [
    "g = sns.displot(data=df_diff,\n",
    "                hue=\"AnswerCertainty\",\n",
    "                x=\"bch_difference\",\n",
    "                hue_order=[\"low_certainty\", \"high_certainty\", \"exhaustive\"],\n",
    "                kind=\"kde\",\n",
    "                palette=\"viridis\",\n",
    "                fill=True,\n",
    "                aspect=2,\n",
    "                height=3)\n",
    "g.axes.flatten()[0].set_xlabel(\n",
    "    \"\"\"Average relevance of high expected belief change condition\n",
    "        minus average relevance of low expected belief change condition,\n",
    "        by answer.\"\"\")\n",
    "g.set(xlim=(-0.4, 1))\n",
    "plt.axvline(x = 0, color = 'orange', linestyle=\"dashed\")\n",
    "\n",
    "plt.savefig(\"/content/drive/MyDrive/relevance/figures/impact_of_prior_by_answer_certainty.pdf\", bbox_inches=\"tight\")"
   ],
   "metadata": {
    "colab": {
     "base_uri": "https://localhost:8080/",
     "height": 339
    },
    "id": "WuXzSkoIlbTY",
    "executionInfo": {
     "status": "ok",
     "timestamp": 1713433542256,
     "user_tz": -120,
     "elapsed": 1964,
     "user": {
      "displayName": "Alex Warstadt",
      "userId": "10715284802802833043"
     }
    },
    "outputId": "010d0d61-a939-46e8-9b81-0402edf71266"
   },
   "execution_count": 31,
   "outputs": []
  },
  {
   "cell_type": "markdown",
   "source": [
    "2d KDE"
   ],
   "metadata": {
    "id": "KeE8zmGmkVlq"
   }
  },
  {
   "cell_type": "code",
   "source": [
    "g = sns.displot(data=df_diff,\n",
    "                # col=\"AnswerCertainty\",\n",
    "                x=\"rel_difference\",\n",
    "                y=\"bch_difference\",\n",
    "                # hue_order=[\"low_certainty\", \"high_certainty\", \"exhaustive\"],\n",
    "                kind=\"kde\",\n",
    "                palette=\"viridis\",\n",
    "                fill=True,\n",
    "                aspect=2,\n",
    "                height=3)\n",
    "g.axes.flatten()[0].set_xlabel(\n",
    "    \"\"\"Average relevance of high expected belief change condition\n",
    "        minus average relevance of low expected belief change condition,\n",
    "        by answer.\"\"\")\n",
    "g.set(xlim=(-0.4, 0.4))\n",
    "plt.axvline(x = 0, color = 'orange', linestyle=\"dashed\")\n",
    "plt.axhline(y = 0, color = 'orange', linestyle=\"dashed\")\n",
    "plt.savefig(\"/content/drive/MyDrive/relevance/figures/impact_of_prior.pdf\", bbox_inches=\"tight\")"
   ],
   "metadata": {
    "colab": {
     "base_uri": "https://localhost:8080/",
     "height": 375
    },
    "id": "JF1SBcRRkYJ7",
    "executionInfo": {
     "status": "ok",
     "timestamp": 1713433584845,
     "user_tz": -120,
     "elapsed": 1974,
     "user": {
      "displayName": "Alex Warstadt",
      "userId": "10715284802802833043"
     }
    },
    "outputId": "c2b643d1-0dd7-44f9-b890-9b61027480fe"
   },
   "execution_count": 34,
   "outputs": []
  },
  {
   "cell_type": "markdown",
   "metadata": {
    "id": "pbKb-u6h2TgJ"
   },
   "source": [
    "# Metrics"
   ]
  },
  {
   "cell_type": "markdown",
   "metadata": {
    "id": "-lCs4okV2t_E"
   },
   "source": [
    "## BFU"
   ]
  },
  {
   "cell_type": "code",
   "execution_count": null,
   "metadata": {
    "id": "TIp4wQvs2vJ9"
   },
   "source": [
    "df_bfu = df.sort_values(by=\"bfu_rank_diff\")[cols + [\"bfu\", \"bfu_rank_diff\"]]\n",
    "# df_bfu\n",
    "df_bfu = df_bfu[df_bfu.apply(lambda x: x.bfu > 0 and x.rel < 1, axis=1)]"
   ],
   "outputs": []
  },
  {
   "cell_type": "code",
   "execution_count": null,
   "metadata": {
    "colab": {
     "base_uri": "https://localhost:8080/",
     "height": 524
    },
    "executionInfo": {
     "elapsed": 1326,
     "status": "ok",
     "timestamp": 1706708416285,
     "user": {
      "displayName": "Alex Warstadt",
      "userId": "10715284802802833043"
     },
     "user_tz": -60
    },
    "id": "ypacwIdP5H4j",
    "outputId": "d9eadff8-be73-4d35-fa17-89ee0b040790"
   },
   "source": [
    "df_filter = df[df.apply(lambda x: not (x[\"bch\"] == 0 and x[\"2ord_bch\"] == 0 and x[\"AnswerCertainty\"] != \"non_answer\"), axis=1)]\n",
    "sns.relplot(data=df_filter, x=\"pri\", y=\"pos\", hue=\"bfu_rank_diff\", palette=\"coolwarm\", alpha=0.5)"
   ],
   "outputs": []
  },
  {
   "cell_type": "code",
   "execution_count": null,
   "metadata": {
    "colab": {
     "base_uri": "https://localhost:8080/",
     "height": 424
    },
    "executionInfo": {
     "elapsed": 8,
     "status": "ok",
     "timestamp": 1706708416285,
     "user": {
      "displayName": "Alex Warstadt",
      "userId": "10715284802802833043"
     },
     "user_tz": -60
    },
    "id": "TyAc7X8lVHF_",
    "outputId": "dee9c3b3-64c7-40ba-eccd-ab34f8f6dcbb"
   },
   "source": [
    "ranks = [\n",
    "\n",
    "    # 'rel_rank',\n",
    "\n",
    "    'bch_rank_diff',\n",
    "    'ech_rank_diff',\n",
    "    'klu_rank_diff',\n",
    "    'bfu_rank_diff',\n",
    "\n",
    "    # '2ord_bch_rank_diff',\n",
    "    'beta_ech_rank_diff',\n",
    "    'beta_klu_rank_diff',\n",
    "    'beta_bfu_rank_diff',\n",
    "    'beta_bch_rank_diff',\n",
    "]\n",
    "\n",
    "other_cols = [\n",
    "\n",
    "    'pri',\n",
    "    'pos',\n",
    "    'rel',\n",
    "    'conf_pos',\n",
    "    'conf_pri',\n",
    "]\n",
    "\n",
    "\n",
    "df_plot = df_filter[ranks + other_cols].set_index(other_cols).stack().reset_index().rename({\"level_5\": \"rank_type\", 0: \"rank\"}, axis=1)\n",
    "\n",
    "def extract_metric(name):\n",
    "    if \"ech\" in name:\n",
    "        return \"Entropy Change\"\n",
    "    elif \"klu\" in name:\n",
    "        return \"KL Utility\"\n",
    "    elif \"bch\" in name:\n",
    "        return \"Belief Change\"\n",
    "    elif \"bfu\" in name:\n",
    "        return \"Bayes Factor Utility\"\n",
    "\n",
    "def extract_order(name):\n",
    "    if \"beta\" in name:\n",
    "        return \"Second Order\"\n",
    "    else:\n",
    "        return \"First Order\"\n",
    "\n",
    "df_plot[\"metric\"] = df_plot[\"rank_type\"].apply(extract_metric)\n",
    "df_plot[\"order\"] = df_plot[\"rank_type\"].apply(extract_order)\n",
    "df_plot"
   ],
   "outputs": []
  },
  {
   "cell_type": "markdown",
   "metadata": {
    "id": "7OzAhTdkxNLa"
   },
   "source": [
    "Plotting just the relevance score"
   ]
  },
  {
   "cell_type": "code",
   "execution_count": null,
   "metadata": {
    "colab": {
     "base_uri": "https://localhost:8080/",
     "height": 406
    },
    "executionInfo": {
     "elapsed": 2106,
     "status": "ok",
     "timestamp": 1706709491964,
     "user": {
      "displayName": "Alex Warstadt",
      "userId": "10715284802802833043"
     },
     "user_tz": -60
    },
    "id": "LXhwjkvoxPCU",
    "outputId": "47ca82f6-47c5-405d-b5cd-622b82f5dd81"
   },
   "source": [
    "g = sns.relplot(data=df,\n",
    "                x=\"pri\",\n",
    "                y=\"pos\",\n",
    "                hue=\"rel\",\n",
    "                palette=\"viridis\",\n",
    "                alpha=0.2,\n",
    "                s=250,\n",
    "                height=4,\n",
    "                edgecolor='none'\n",
    "            )\n",
    "\n",
    "# # Rotate the row titles (y-axis labels)\n",
    "# for ax, row in zip(g.axes[:,0], df_plot[\"order\"].unique()):\n",
    "#     ax.annotate(row, xy=(0, 0.5), xytext=(-ax.yaxis.labelpad - 5, 0),\n",
    "#                 xycoords=ax.yaxis.label, textcoords='offset points',\n",
    "#                 size='large', ha='right', va='center', rotation=90)\n",
    "#     ax.set_ylabel(\"Posterior Probability\")\n",
    "\n",
    "# # Add column titles at the top and remove others\n",
    "# for ax, col in zip(g.axes[0], df_plot[\"metric\"].unique()):\n",
    "#     ax.set_title(col)\n",
    "# for ax in g.axes[1]:\n",
    "#     ax.set_title(\"\")\n",
    "#     ax.set_xlabel(\"Prior Probability\")\n",
    "\n",
    "# g._legend.set_title('Δ Rank')"
   ],
   "outputs": []
  },
  {
   "cell_type": "code",
   "execution_count": null,
   "metadata": {
    "colab": {
     "base_uri": "https://localhost:8080/",
     "height": 410
    },
    "executionInfo": {
     "elapsed": 8569,
     "status": "ok",
     "timestamp": 1706708424848,
     "user": {
      "displayName": "Alex Warstadt",
      "userId": "10715284802802833043"
     },
     "user_tz": -60
    },
    "id": "7Aks9SwZbSe3",
    "outputId": "8a340d7d-dcc1-49c1-853d-3820f8117024"
   },
   "source": [
    "def plot_rank_diffs(data_subset):\n",
    "    g = sns.relplot(data=data_subset,\n",
    "                    x=\"pri\",\n",
    "                    y=\"pos\",\n",
    "                    hue=\"rank\",\n",
    "                    col=\"metric\",\n",
    "                    row=\"order\",\n",
    "                    palette=\"Spectral\",\n",
    "                    alpha=0.2,\n",
    "                    s=100,\n",
    "                    height=2,\n",
    "                    edgecolor='none'\n",
    "                )\n",
    "\n",
    "    # Rotate the row titles (y-axis labels)\n",
    "    for ax, row in zip(g.axes[:,0], df_plot[\"order\"].unique()):\n",
    "        ax.annotate(row, xy=(0, 0.5), xytext=(-ax.yaxis.labelpad - 5, 0),\n",
    "                    xycoords=ax.yaxis.label, textcoords='offset points',\n",
    "                    size='large', ha='right', va='center', rotation=90)\n",
    "        ax.set_ylabel(\"Posterior Probability\")\n",
    "\n",
    "    # Add column titles at the top and remove others\n",
    "    for ax, col in zip(g.axes[0], df_plot[\"metric\"].unique()):\n",
    "        ax.set_title(col)\n",
    "    for ax in g.axes[1]:\n",
    "        ax.set_title(\"\")\n",
    "        ax.set_xlabel(\"Prior Probability\")\n",
    "\n",
    "    g._legend.set_title('Δ Rank')\n",
    "\n",
    "plt.savefig(\"/content/drive/MyDrive/relevance/figures/rank_difference.pdf\")"
   ],
   "outputs": []
  },
  {
   "cell_type": "markdown",
   "metadata": {
    "id": "ipJp1QQq5Rmy"
   },
   "source": [
    "Let's redo this plot but only focus on the corners"
   ]
  },
  {
   "cell_type": "code",
   "execution_count": null,
   "metadata": {
    "colab": {
     "base_uri": "https://localhost:8080/",
     "height": 624
    },
    "executionInfo": {
     "elapsed": 3874,
     "status": "ok",
     "timestamp": 1706708428700,
     "user": {
      "displayName": "Alex Warstadt",
      "userId": "10715284802802833043"
     },
     "user_tz": -60
    },
    "id": "W0MQ8laI5eUG",
    "outputId": "23c33451-a5f2-4dc2-f2fd-3451e6f30c47"
   },
   "source": [
    "p = 0.2\n",
    "q = 1-p\n",
    "r = 0.5 / p\n",
    "df_extreme = df_plot[df_plot.apply(lambda x:\n",
    "                                    (x.pri < p and x.pos < p) or\n",
    "                                    (x.pri < p and x.pos > q) or\n",
    "                                    (x.pri > q and x.pos < p) or\n",
    "                                    (x.pri > q and x.pos > q),\n",
    "                                axis=1)]\n",
    "\n",
    "df_extreme[\"pri\"] = df_extreme.pri.apply(lambda x: r * x if x < p else 1 - (r * (1-x)))\n",
    "df_extreme[\"pos\"] = df_extreme.pos.apply(lambda x: r * x if x < p else 1 - (r * (1-x)))\n",
    "plot_rank_diffs(df_extreme)"
   ],
   "outputs": []
  },
  {
   "cell_type": "markdown",
   "metadata": {
    "id": "Czdji9ch2gfO"
   },
   "source": [
    "Let's pull out examples where there was small first-order belief change, but high second-order belief change"
   ]
  },
  {
   "cell_type": "code",
   "execution_count": null,
   "metadata": {
    "colab": {
     "base_uri": "https://localhost:8080/",
     "height": 410
    },
    "executionInfo": {
     "elapsed": 3354,
     "status": "ok",
     "timestamp": 1706708432039,
     "user": {
      "displayName": "Alex Warstadt",
      "userId": "10715284802802833043"
     },
     "user_tz": -60
    },
    "id": "D0eOSxMe2hlZ",
    "outputId": "4455724a-229c-44ad-be9f-71639b1290f1"
   },
   "source": [
    "df_small_bc = df_plot[df_plot.apply(lambda x:\n",
    "                                    abs(x.pos - x.pri) < 0.2 and x.rel > 0.5,\n",
    "                                    axis=1\n",
    "                                    )]\n",
    "g = sns.relplot(data=df_small_bc,\n",
    "                x=\"pri\",\n",
    "                y=\"pos\",\n",
    "                hue=\"rank\",\n",
    "                col=\"metric\",\n",
    "                row=\"order\",\n",
    "                palette=\"Spectral\",\n",
    "                alpha=0.2,\n",
    "                s=100,\n",
    "                height=2,\n",
    "                edgecolor='none'\n",
    "            )\n",
    "\n",
    "# Rotate the row titles (y-axis labels)\n",
    "for ax, row in zip(g.axes[:,0], df_plot[\"order\"].unique()):\n",
    "    ax.annotate(row, xy=(0, 0.5), xytext=(-ax.yaxis.labelpad - 5, 0),\n",
    "                xycoords=ax.yaxis.label, textcoords='offset points',\n",
    "                size='large', ha='right', va='center', rotation=90)\n",
    "    ax.set_ylabel(\"Posterior Probability\")\n",
    "\n",
    "# Add column titles at the top and remove others\n",
    "for ax, col in zip(g.axes[0], df_plot[\"metric\"].unique()):\n",
    "    ax.set_title(col)\n",
    "for ax in g.axes[1]:\n",
    "    ax.set_title(\"\")\n",
    "    ax.set_xlabel(\"Prior Probability\")\n",
    "\n",
    "g._legend.set_title('Δ Rank')"
   ],
   "outputs": []
  },
  {
   "cell_type": "code",
   "execution_count": null,
   "metadata": {
    "colab": {
     "base_uri": "https://localhost:8080/",
     "height": 1000
    },
    "executionInfo": {
     "elapsed": 25,
     "status": "ok",
     "timestamp": 1706708432039,
     "user": {
      "displayName": "Alex Warstadt",
      "userId": "10715284802802833043"
     },
     "user_tz": -60
    },
    "id": "MYhBVsCXRFd7",
    "outputId": "b107a6f3-d22e-4a0d-fa72-56954f598b50"
   },
   "source": [
    "# df_small_bc = df_plot[df_plot.apply(lambda x:\n",
    "#                                     abs(x.pos - x.pri) < 0.1 and x.rel > 0.5 and x.,\n",
    "#                                     axis=1\n",
    "#                                     )]\n",
    "# df_small_bc\n",
    "print(df.columns)\n",
    "df[df.apply(lambda x:\n",
    "            abs(x.pos - x.pri) < 0.1 and\n",
    "            x.rel > 0.5 and\n",
    "            x.klu_rank_diff < -500,\n",
    "            axis=1\n",
    "            )][cols + [\"klu_rank_diff\", \"beta_klu_rank_diff\", \"bfu_rank_diff\", \"beta_bfu_rank_diff\"]]"
   ],
   "outputs": []
  },
  {
   "cell_type": "markdown",
   "metadata": {
    "id": "zHE3CA7xxe6c"
   },
   "source": [
    "Let's try to plot for one metric, separating data points by change in confidence"
   ]
  },
  {
   "cell_type": "code",
   "execution_count": null,
   "metadata": {
    "id": "D8vGY1KK1mau"
   },
   "source": [
    "def conf_coarse(conf):\n",
    "    return {\n",
    "        1: \"1-2\",\n",
    "        2: \"1-2\",\n",
    "        3: \"3-4\",\n",
    "        4: \"3-4\",\n",
    "        5: \"5\",\n",
    "        6: \"6\",\n",
    "        7: \"7\"\n",
    "    }[conf]\n",
    "\n",
    "df_plot[\"conf_pri_coarse\"] = df_plot[\"conf_pri\"].apply(conf_coarse)\n",
    "df_plot[\"conf_pos_coarse\"] = df_plot[\"conf_pos\"].apply(conf_coarse)"
   ],
   "outputs": []
  },
  {
   "cell_type": "code",
   "execution_count": null,
   "metadata": {
    "colab": {
     "base_uri": "https://localhost:8080/",
     "height": 485
    },
    "executionInfo": {
     "elapsed": 10043,
     "status": "ok",
     "timestamp": 1706708442062,
     "user": {
      "displayName": "Alex Warstadt",
      "userId": "10715284802802833043"
     },
     "user_tz": -60
    },
    "id": "c2YBZszjxjOf",
    "outputId": "7d5361bf-e65e-44f6-d202-62a54386bdf8"
   },
   "source": [
    "df_beta_klu = df_plot[df_plot[\"rank_type\"]==\"beta_klu_rank_diff\"]\n",
    "g = sns.relplot(data=df_beta_klu,\n",
    "                x=\"pri\",\n",
    "                y=\"pos\",\n",
    "                hue=\"rank\",\n",
    "                col=\"conf_pri_coarse\",\n",
    "                row=\"conf_pos_coarse\",\n",
    "                row_order=[\"7\", \"6\", \"5\", \"3-4\", \"1-2\"],\n",
    "                palette=\"Spectral\",\n",
    "                alpha=0.5,\n",
    "                s=50,\n",
    "                edgecolor='none',\n",
    "                height=1,\n",
    "                aspect=1\n",
    "                )\n",
    "g.set_titles(\"\")\n",
    "g.set(ylim=(0, 1), xlim=(0, 1))\n",
    "plt.subplots_adjust(left=0.1, right=0.8, top=0.9, bottom=0.1, wspace=0.2, hspace=0.2)\n"
   ],
   "outputs": []
  }
 ],
 "metadata": {
  "colab": {
   "toc_visible": true,
   "provenance": [],
   "authorship_tag": "ABX9TyN5KQfTNzrdZjF+h4WW7i+s"
  },
  "kernelspec": {
   "display_name": "Python 3",
   "name": "python3"
  },
  "language_info": {
   "name": "python"
  }
 },
 "nbformat": 4,
 "nbformat_minor": 0
}
